{
 "cells": [
  {
   "cell_type": "code",
   "execution_count": 1,
   "metadata": {},
   "outputs": [],
   "source": [
    "#libraries\n",
    "import pandas as pd\n",
    "import numpy as np\n",
    "from numpy import column_stack\n",
    "from xgboost import XGBClassifier\n",
    "from sklearn.preprocessing import LabelEncoder\n",
    "from sklearn.preprocessing import OneHotEncoder\n",
    "from sklearn.model_selection import StratifiedKFold\n",
    "from sklearn.model_selection import cross_val_score\n",
    "from sklearn.model_selection import RandomizedSearchCV\n",
    "from sklearn.model_selection import train_test_split\n",
    "from sklearn.metrics import f1_score\n",
    "from scipy import stats\n",
    "from time import time\n",
    "import matplotlib.pyplot as plt\n",
    "from xgboost import plot_importance\n",
    "import re\n",
    "from scipy import sparse\n",
    "from datetime import datetime\n",
    "import pickle\n",
    "import seaborn as sns"
   ]
  },
  {
   "cell_type": "code",
   "execution_count": 2,
   "metadata": {},
   "outputs": [],
   "source": [
    "n_threads = 36\n",
    "#set random_seed for reproduction purposes..\n",
    "random_seed = 10"
   ]
  },
  {
   "cell_type": "code",
   "execution_count": 3,
   "metadata": {},
   "outputs": [],
   "source": [
    "#convert date to seperate values for day, month, hour\n",
    "def convert_date_to_day(dt):\n",
    "\n",
    "   result = re.findall(r'\\d{4}-(\\d{2})-(\\d{2})T00:00:00.000',dt)\n",
    "\n",
    "   return result[0][1]\n",
    "\n",
    "   \n",
    "\n",
    "def convert_date_to_month(dt):\n",
    "\n",
    "   result = re.findall(r'\\d{4}-(\\d{2})-(\\d{2})T00:00:00.000',dt)\n",
    "\n",
    "   return result[0][0]\n",
    "\n",
    "\n",
    "def convert_date_to_year(dt):\n",
    "    \n",
    "    result = re.findall(r'(\\d{4})-(\\d{2})-(\\d{2})T00:00:00.000',dt)\n",
    "\n",
    "    return result[0][0]\n",
    "\n",
    "def convert_time_to_hour(tm):\n",
    "\n",
    "   result = re.findall(r'(\\d{2}):\\d{2}',tm)\n",
    "\n",
    "   return result[0]\n"
   ]
  },
  {
   "cell_type": "code",
   "execution_count": 4,
   "metadata": {},
   "outputs": [],
   "source": [
    "df_district = pd.read_csv('/home/ubuntu/CSVs/PARK_data.csv') #change this city for csv for whatever district being done\n",
    "df_district = df_district.drop(columns=['pddistrict', 'incidntnum', 'pdid', 'location', 'descript'])\n",
    "df_y = df_district['category']\n",
    "df_x = df_district.drop(columns=['category'])\n",
    "labelencoder = LabelEncoder()\n",
    "labelencoder = labelencoder.fit(df_y)\n",
    "labelencoded_y = labelencoder.transform(df_y)\n",
    "df_x['day'] = df_x.date.apply(lambda x: convert_date_to_day(x))\n",
    "df_x['month'] = df_x.date.apply(lambda x: convert_date_to_month(x))\n",
    "df_x['year'] = df_x.date.apply(lambda x: convert_date_to_year(x))\n",
    "df_x['hour'] = df_x.time.apply(lambda x: convert_time_to_hour(x))\n",
    "df_x = df_x.drop(columns=['date', 'time'])\n",
    "df_x['day'] = (df_x['day']).astype(int)\n",
    "df_x['month'] = (df_x['month']).astype(int)\n",
    "df_x['year'] = (df_x['year']).astype(int)\n",
    "df_x['hour'] = (df_x['hour']).astype(int)\n",
    "label_encoder_addr = LabelEncoder()\n",
    "addr_feature = label_encoder_addr.fit_transform(df_x.address.iloc[:].values)\n",
    "addr_feature = addr_feature.reshape(df_x.shape[0], 1)\n",
    "onehot_encoder_addr = OneHotEncoder(sparse = False)\n",
    "addr_feature = onehot_encoder_addr.fit_transform(addr_feature)\n",
    "label_encoder_DoW = LabelEncoder()\n",
    "DoW_feature = label_encoder_DoW.fit_transform(df_x.dayofweek.iloc[:].values)\n",
    "DoW_feature = DoW_feature.reshape(df_x.shape[0], 1)\n",
    "onehot_encoder_DoW = OneHotEncoder(sparse = False)\n",
    "DoW_feature = onehot_encoder_DoW.fit_transform(DoW_feature)\n",
    "label_encoder_res = LabelEncoder()\n",
    "res_feature = label_encoder_res.fit_transform(df_x.resolution.iloc[:].values)\n",
    "res_feature = res_feature.reshape(df_x.shape[0], 1)\n",
    "onehot_encoder_res = OneHotEncoder(sparse = False)\n",
    "res_feature = onehot_encoder_res.fit_transform(res_feature)\n",
    "\n",
    "day = df_x.day.values\n",
    "month = df_x.month.values\n",
    "year = df_x.year.values\n",
    "hour = df_x.hour.values\n",
    "x = df_x.x.values\n",
    "y = df_x.y.values\n",
    "\n",
    "columns = []\n",
    "columns.append(addr_feature)\n",
    "columns.append(DoW_feature)\n",
    "columns.append(res_feature)\n",
    "columns.append(x)\n",
    "columns.append(y)\n",
    "columns.append(day)\n",
    "columns.append(month)\n",
    "columns.append(year)\n",
    "columns.append(hour)\n",
    "encoded_feats = column_stack(columns)\n",
    "sparse_features = sparse.csr_matrix(encoded_feats)"
   ]
  },
  {
   "cell_type": "code",
   "execution_count": 5,
   "metadata": {},
   "outputs": [
    {
     "name": "stdout",
     "output_type": "stream",
     "text": [
      "Fitting 3 folds for each of 3 candidates, totalling 9 fits\n"
     ]
    },
    {
     "name": "stderr",
     "output_type": "stream",
     "text": [
      "/home/ubuntu/anaconda2/lib/python2.7/site-packages/sklearn/model_selection/_split.py:605: Warning: The least populated class in y has only 1 members, which is too few. The minimum number of members in any class cannot be less than n_splits=3.\n",
      "  % (min_groups, self.n_splits)), Warning)\n"
     ]
    },
    {
     "name": "stdout",
     "output_type": "stream",
     "text": [
      "[CV] n_estimators=360, learning_rate=0.024356538116424672, colsample_bytree=0.6538404918773703, max_depth=2 \n",
      "[CV] n_estimators=360, learning_rate=0.024356538116424672, colsample_bytree=0.6538404918773703, max_depth=2 \n",
      "[CV] n_estimators=360, learning_rate=0.024356538116424672, colsample_bytree=0.6538404918773703, max_depth=2 \n",
      "[CV] n_estimators=120, learning_rate=0.07133111338272391, colsample_bytree=0.7255393870704197, max_depth=4 \n",
      "[CV] n_estimators=120, learning_rate=0.07133111338272391, colsample_bytree=0.7255393870704197, max_depth=4 \n",
      "[CV] n_estimators=120, learning_rate=0.07133111338272391, colsample_bytree=0.7255393870704197, max_depth=4 \n",
      "[CV] n_estimators=120, learning_rate=0.03315317056737825, colsample_bytree=0.7731179631900176, max_depth=4 \n",
      "[CV] n_estimators=120, learning_rate=0.03315317056737825, colsample_bytree=0.7731179631900176, max_depth=4 \n",
      "[CV] n_estimators=120, learning_rate=0.03315317056737825, colsample_bytree=0.7731179631900176, max_depth=4 \n"
     ]
    },
    {
     "name": "stderr",
     "output_type": "stream",
     "text": [
      "/home/ubuntu/anaconda2/lib/python2.7/site-packages/sklearn/preprocessing/label.py:151: DeprecationWarning: The truth value of an empty array is ambiguous. Returning False, but in future this will result in an error. Use `array.size > 0` to check that an array is not empty.\n",
      "  if diff:\n",
      "/home/ubuntu/anaconda2/lib/python2.7/site-packages/sklearn/preprocessing/label.py:151: DeprecationWarning: The truth value of an empty array is ambiguous. Returning False, but in future this will result in an error. Use `array.size > 0` to check that an array is not empty.\n",
      "  if diff:\n",
      "/home/ubuntu/anaconda2/lib/python2.7/site-packages/sklearn/preprocessing/label.py:151: DeprecationWarning: The truth value of an empty array is ambiguous. Returning False, but in future this will result in an error. Use `array.size > 0` to check that an array is not empty.\n",
      "  if diff:\n"
     ]
    },
    {
     "name": "stdout",
     "output_type": "stream",
     "text": [
      "[CV]  n_estimators=120, learning_rate=0.03315317056737825, colsample_bytree=0.7731179631900176, max_depth=4, score=0.376046497621, total= 5.4min\n"
     ]
    },
    {
     "name": "stderr",
     "output_type": "stream",
     "text": [
      "/home/ubuntu/anaconda2/lib/python2.7/site-packages/sklearn/preprocessing/label.py:151: DeprecationWarning: The truth value of an empty array is ambiguous. Returning False, but in future this will result in an error. Use `array.size > 0` to check that an array is not empty.\n",
      "  if diff:\n"
     ]
    },
    {
     "name": "stdout",
     "output_type": "stream",
     "text": [
      "[CV]  n_estimators=120, learning_rate=0.07133111338272391, colsample_bytree=0.7255393870704197, max_depth=4, score=0.378432140812, total= 5.6min\n"
     ]
    },
    {
     "name": "stderr",
     "output_type": "stream",
     "text": [
      "[Parallel(n_jobs=-1)]: Done   2 out of   9 | elapsed:  5.8min remaining: 20.2min\n",
      "/home/ubuntu/anaconda2/lib/python2.7/site-packages/sklearn/preprocessing/label.py:151: DeprecationWarning: The truth value of an empty array is ambiguous. Returning False, but in future this will result in an error. Use `array.size > 0` to check that an array is not empty.\n",
      "  if diff:\n",
      "/home/ubuntu/anaconda2/lib/python2.7/site-packages/sklearn/preprocessing/label.py:151: DeprecationWarning: The truth value of an empty array is ambiguous. Returning False, but in future this will result in an error. Use `array.size > 0` to check that an array is not empty.\n",
      "  if diff:\n"
     ]
    },
    {
     "name": "stdout",
     "output_type": "stream",
     "text": [
      "[CV]  n_estimators=120, learning_rate=0.07133111338272391, colsample_bytree=0.7255393870704197, max_depth=4, score=0.381688358641, total= 5.9min\n"
     ]
    },
    {
     "name": "stderr",
     "output_type": "stream",
     "text": [
      "[Parallel(n_jobs=-1)]: Done   3 out of   9 | elapsed:  6.1min remaining: 12.2min\n",
      "/home/ubuntu/anaconda2/lib/python2.7/site-packages/sklearn/preprocessing/label.py:151: DeprecationWarning: The truth value of an empty array is ambiguous. Returning False, but in future this will result in an error. Use `array.size > 0` to check that an array is not empty.\n",
      "  if diff:\n",
      "/home/ubuntu/anaconda2/lib/python2.7/site-packages/sklearn/preprocessing/label.py:151: DeprecationWarning: The truth value of an empty array is ambiguous. Returning False, but in future this will result in an error. Use `array.size > 0` to check that an array is not empty.\n",
      "  if diff:\n",
      "/home/ubuntu/anaconda2/lib/python2.7/site-packages/sklearn/preprocessing/label.py:151: DeprecationWarning: The truth value of an empty array is ambiguous. Returning False, but in future this will result in an error. Use `array.size > 0` to check that an array is not empty.\n",
      "  if diff:\n"
     ]
    },
    {
     "name": "stdout",
     "output_type": "stream",
     "text": [
      "[CV]  n_estimators=120, learning_rate=0.07133111338272391, colsample_bytree=0.7255393870704197, max_depth=4, score=0.380955249051, total= 6.5min\n"
     ]
    },
    {
     "name": "stderr",
     "output_type": "stream",
     "text": [
      "[Parallel(n_jobs=-1)]: Done   4 out of   9 | elapsed:  6.6min remaining:  8.3min\n",
      "/home/ubuntu/anaconda2/lib/python2.7/site-packages/sklearn/preprocessing/label.py:151: DeprecationWarning: The truth value of an empty array is ambiguous. Returning False, but in future this will result in an error. Use `array.size > 0` to check that an array is not empty.\n",
      "  if diff:\n"
     ]
    },
    {
     "name": "stdout",
     "output_type": "stream",
     "text": [
      "[CV]  n_estimators=120, learning_rate=0.03315317056737825, colsample_bytree=0.7731179631900176, max_depth=4, score=0.375448325748, total= 6.5min\n"
     ]
    },
    {
     "name": "stderr",
     "output_type": "stream",
     "text": [
      "[Parallel(n_jobs=-1)]: Done   5 out of   9 | elapsed:  6.6min remaining:  5.3min\n",
      "/home/ubuntu/anaconda2/lib/python2.7/site-packages/sklearn/preprocessing/label.py:151: DeprecationWarning: The truth value of an empty array is ambiguous. Returning False, but in future this will result in an error. Use `array.size > 0` to check that an array is not empty.\n",
      "  if diff:\n",
      "/home/ubuntu/anaconda2/lib/python2.7/site-packages/sklearn/preprocessing/label.py:151: DeprecationWarning: The truth value of an empty array is ambiguous. Returning False, but in future this will result in an error. Use `array.size > 0` to check that an array is not empty.\n",
      "  if diff:\n"
     ]
    },
    {
     "name": "stdout",
     "output_type": "stream",
     "text": [
      "[CV]  n_estimators=120, learning_rate=0.03315317056737825, colsample_bytree=0.7731179631900176, max_depth=4, score=0.375210894191, total= 6.8min\n"
     ]
    },
    {
     "name": "stderr",
     "output_type": "stream",
     "text": [
      "[Parallel(n_jobs=-1)]: Done   6 out of   9 | elapsed:  6.9min remaining:  3.4min\n",
      "/home/ubuntu/anaconda2/lib/python2.7/site-packages/sklearn/preprocessing/label.py:151: DeprecationWarning: The truth value of an empty array is ambiguous. Returning False, but in future this will result in an error. Use `array.size > 0` to check that an array is not empty.\n",
      "  if diff:\n",
      "/home/ubuntu/anaconda2/lib/python2.7/site-packages/sklearn/preprocessing/label.py:151: DeprecationWarning: The truth value of an empty array is ambiguous. Returning False, but in future this will result in an error. Use `array.size > 0` to check that an array is not empty.\n",
      "  if diff:\n"
     ]
    },
    {
     "name": "stdout",
     "output_type": "stream",
     "text": [
      "[CV]  n_estimators=360, learning_rate=0.024356538116424672, colsample_bytree=0.6538404918773703, max_depth=2, score=0.361523855451, total= 7.6min\n"
     ]
    },
    {
     "name": "stderr",
     "output_type": "stream",
     "text": [
      "[Parallel(n_jobs=-1)]: Done   7 out of   9 | elapsed:  7.8min remaining:  2.2min\n",
      "/home/ubuntu/anaconda2/lib/python2.7/site-packages/sklearn/preprocessing/label.py:151: DeprecationWarning: The truth value of an empty array is ambiguous. Returning False, but in future this will result in an error. Use `array.size > 0` to check that an array is not empty.\n",
      "  if diff:\n",
      "/home/ubuntu/anaconda2/lib/python2.7/site-packages/sklearn/preprocessing/label.py:151: DeprecationWarning: The truth value of an empty array is ambiguous. Returning False, but in future this will result in an error. Use `array.size > 0` to check that an array is not empty.\n",
      "  if diff:\n"
     ]
    },
    {
     "name": "stdout",
     "output_type": "stream",
     "text": [
      "[CV]  n_estimators=360, learning_rate=0.024356538116424672, colsample_bytree=0.6538404918773703, max_depth=2, score=0.360056640154, total= 7.9min\n"
     ]
    },
    {
     "name": "stderr",
     "output_type": "stream",
     "text": [
      "/home/ubuntu/anaconda2/lib/python2.7/site-packages/sklearn/preprocessing/label.py:151: DeprecationWarning: The truth value of an empty array is ambiguous. Returning False, but in future this will result in an error. Use `array.size > 0` to check that an array is not empty.\n",
      "  if diff:\n",
      "/home/ubuntu/anaconda2/lib/python2.7/site-packages/sklearn/preprocessing/label.py:151: DeprecationWarning: The truth value of an empty array is ambiguous. Returning False, but in future this will result in an error. Use `array.size > 0` to check that an array is not empty.\n",
      "  if diff:\n"
     ]
    },
    {
     "name": "stdout",
     "output_type": "stream",
     "text": [
      "[CV]  n_estimators=360, learning_rate=0.024356538116424672, colsample_bytree=0.6538404918773703, max_depth=2, score=0.362705535144, total= 8.0min\n"
     ]
    },
    {
     "name": "stderr",
     "output_type": "stream",
     "text": [
      "[Parallel(n_jobs=-1)]: Done   9 out of   9 | elapsed:  8.0min remaining:    0.0s\n",
      "[Parallel(n_jobs=-1)]: Done   9 out of   9 | elapsed:  8.0min finished\n"
     ]
    },
    {
     "name": "stdout",
     "output_type": "stream",
     "text": [
      "Best: 0.380359 using {'n_estimators': 120, 'learning_rate': 0.07133111338272391, 'colsample_bytree': 0.7255393870704197, 'max_depth': 4}\n"
     ]
    }
   ],
   "source": [
    "X_train, X_test, y_train, y_test = train_test_split(sparse_features, labelencoded_y, test_size=0.20, random_state=random_seed)\n",
    "\n",
    "model = XGBClassifier(nthread = n_threads) #or -1\n",
    "kfold = StratifiedKFold(n_splits=3, shuffle=True, random_state=random_seed)\n",
    "param_grid = {'n_estimators': [120, 240, 360, 480], #random int btwn 100 and 500 - removed\n",
    "              'learning_rate': stats.uniform(0.01, 0.08), #.01 + loc, range of .01+/-.08\n",
    "              'max_depth': [2, 4, 6, 8], #tree depths to check\n",
    "              'colsample_bytree': stats.uniform(0.3, 0.7) #btwn .1 and 1.0    \n",
    "}\n",
    "rand_search = RandomizedSearchCV(model, param_distributions = param_grid, scoring = 'f1_micro', n_iter = 3, n_jobs=-1, verbose = 10, cv=kfold)\n",
    "rand_result = rand_search.fit(X_train, y_train)\n",
    "print(\"Best: %f using %s\" % (rand_result.best_score_, rand_result.best_params_))\n",
    "best_XGB_parameters = rand_result.best_estimator_\n",
    "#INSERT CITY NAME FOR .DAT FILE\n",
    "pickle.dump(best_XGB_parameters, open(\"xgb_PARK.pickle.dat\", 'wb')) #change pickle\n"
   ]
  },
  {
   "cell_type": "code",
   "execution_count": 6,
   "metadata": {},
   "outputs": [
    {
     "name": "stderr",
     "output_type": "stream",
     "text": [
      "/home/ubuntu/anaconda2/lib/python2.7/site-packages/sklearn/preprocessing/label.py:151: DeprecationWarning: The truth value of an empty array is ambiguous. Returning False, but in future this will result in an error. Use `array.size > 0` to check that an array is not empty.\n",
      "  if diff:\n"
     ]
    }
   ],
   "source": [
    "#test on test set\n",
    "best_XGB_parameters.fit(X_train, y_train)\n",
    "preds = best_XGB_parameters.predict(X_test)\n",
    "f1score = f1_score(y_test, preds, average = 'micro')\n",
    "#CSV append best score after test set\n",
    "f1_score = []\n",
    "f1_score.append(('Park', f1score))\n",
    "export_df = pd.DataFrame(f1_score)\n",
    "#change csv name\n",
    "export_df.to_csv(\"Park_results.dat\", index = False, header = False)"
   ]
  }
 ],
 "metadata": {
  "kernelspec": {
   "display_name": "Python 2",
   "language": "python",
   "name": "python2"
  },
  "language_info": {
   "codemirror_mode": {
    "name": "ipython",
    "version": 2
   },
   "file_extension": ".py",
   "mimetype": "text/x-python",
   "name": "python",
   "nbconvert_exporter": "python",
   "pygments_lexer": "ipython2",
   "version": "2.7.14"
  }
 },
 "nbformat": 4,
 "nbformat_minor": 2
}
