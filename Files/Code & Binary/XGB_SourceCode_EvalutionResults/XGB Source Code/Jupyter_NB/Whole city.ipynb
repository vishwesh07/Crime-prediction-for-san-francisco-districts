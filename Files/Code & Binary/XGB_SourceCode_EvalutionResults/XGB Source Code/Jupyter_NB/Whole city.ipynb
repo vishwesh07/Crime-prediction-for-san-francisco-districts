{
 "cells": [
  {
   "cell_type": "code",
   "execution_count": 90,
   "metadata": {},
   "outputs": [],
   "source": [
    "#libraries\n",
    "import pandas as pd\n",
    "import numpy as np\n",
    "from numpy import column_stack\n",
    "from xgboost import XGBClassifier\n",
    "from xgboost import plot_tree\n",
    "from sklearn.preprocessing import LabelEncoder\n",
    "from sklearn.preprocessing import OneHotEncoder\n",
    "from sklearn.model_selection import StratifiedKFold\n",
    "from sklearn.model_selection import cross_val_score\n",
    "from sklearn.model_selection import RandomizedSearchCV\n",
    "from sklearn.model_selection import train_test_split\n",
    "from sklearn.metrics import f1_score\n",
    "from scipy import stats\n",
    "from time import time\n",
    "import matplotlib.pyplot as plt\n",
    "from xgboost import plot_importance\n",
    "import re\n",
    "from scipy import sparse\n",
    "from datetime import datetime\n",
    "import pickle\n",
    "import seaborn as sns"
   ]
  },
  {
   "cell_type": "code",
   "execution_count": 91,
   "metadata": {},
   "outputs": [],
   "source": [
    "n_threads = 36\n",
    "#set random_seed for reproduction purposes..\n",
    "random_seed = 10"
   ]
  },
  {
   "cell_type": "code",
   "execution_count": 92,
   "metadata": {},
   "outputs": [],
   "source": [
    "#convert date to seperate values for day, month, hour\n",
    "def convert_date_to_day(dt):\n",
    "\n",
    "   result = re.findall(r'\\d{4}-(\\d{2})-(\\d{2})T00:00:00.000',dt)\n",
    "\n",
    "   return result[0][1]\n",
    "\n",
    "   \n",
    "\n",
    "def convert_date_to_month(dt):\n",
    "\n",
    "   result = re.findall(r'\\d{4}-(\\d{2})-(\\d{2})T00:00:00.000',dt)\n",
    "\n",
    "   return result[0][0]\n",
    "\n",
    "\n",
    "def convert_date_to_year(dt):\n",
    "    \n",
    "    result = re.findall(r'(\\d{4})-(\\d{2})-(\\d{2})T00:00:00.000',dt)\n",
    "\n",
    "    return result[0][0]\n",
    "\n",
    "def convert_time_to_hour(tm):\n",
    "\n",
    "   result = re.findall(r'(\\d{2}):\\d{2}',tm)\n",
    "\n",
    "   return result[0]\n"
   ]
  },
  {
   "cell_type": "code",
   "execution_count": 93,
   "metadata": {},
   "outputs": [],
   "source": [
    "df_district = pd.read_csv('/home/ubuntu/CSVs/CITY_data.csv') #change this city for csv for whatever district being done\n",
    "\n",
    "#added content...\n",
    "#leave pddistrict in... need to label and OHE it\n",
    "\n",
    "df_district = df_district.drop(columns=['incidntnum', 'pdid', 'location', 'descript'])\n",
    "df_y = df_district['category']\n",
    "df_x = df_district.drop(columns=['category'])\n",
    "labelencoder = LabelEncoder()\n",
    "labelencoder = labelencoder.fit(df_y)\n",
    "labelencoded_y = labelencoder.transform(df_y)\n",
    "df_x['day'] = df_x.date.apply(lambda x: convert_date_to_day(x))\n",
    "df_x['month'] = df_x.date.apply(lambda x: convert_date_to_month(x))\n",
    "df_x['year'] = df_x.date.apply(lambda x: convert_date_to_year(x))\n",
    "df_x['hour'] = df_x.time.apply(lambda x: convert_time_to_hour(x))\n",
    "df_x = df_x.drop(columns=['date', 'time'])\n",
    "df_x['day'] = (df_x['day']).astype(int)\n",
    "df_x['month'] = (df_x['month']).astype(int)\n",
    "df_x['year'] = (df_x['year']).astype(int)\n",
    "df_x['hour'] = (df_x['hour']).astype(int)\n",
    "label_encoder_pddist = LabelEncoder()\n",
    "pddistrict_feature = label_encoder_pddist.fit_transform(df_x.pddistrict.iloc[:].values)\n",
    "pddistrict_feature = pddistrict_feature.reshape(df_x.shape[0], 1)\n",
    "onehot_encoder_pdd = OneHotEncoder(sparse = False)\n",
    "pddistrict_feature = onehot_encoder_pdd.fit_transform(pddistrict_feature)\n",
    "\n"
   ]
  },
  {
   "cell_type": "code",
   "execution_count": 94,
   "metadata": {},
   "outputs": [
    {
     "data": {
      "text/plain": [
       "numpy.ndarray"
      ]
     },
     "execution_count": 94,
     "metadata": {},
     "output_type": "execute_result"
    }
   ],
   "source": [
    "type(pddistrict_feature)"
   ]
  },
  {
   "cell_type": "code",
   "execution_count": 95,
   "metadata": {},
   "outputs": [
    {
     "data": {
      "text/plain": [
       "(2206399, 11)"
      ]
     },
     "execution_count": 95,
     "metadata": {},
     "output_type": "execute_result"
    }
   ],
   "source": [
    "pddistrict_feature.shape"
   ]
  },
  {
   "cell_type": "code",
   "execution_count": null,
   "metadata": {},
   "outputs": [],
   "source": []
  },
  {
   "cell_type": "code",
   "execution_count": 96,
   "metadata": {},
   "outputs": [],
   "source": [
    "label_encoder_addr = LabelEncoder()\n",
    "addr_feature = label_encoder_addr.fit_transform(df_x.address.iloc[:].values)\n",
    "addr_feature = addr_feature.reshape(df_x.shape[0], 1)\n",
    "onehot_encoder_addr = OneHotEncoder(sparse = True)\n",
    "onehot_encoder_addr = onehot_encoder_addr.fit(addr_feature)\n",
    "addr_feature = onehot_encoder_addr.transform(addr_feature)"
   ]
  },
  {
   "cell_type": "code",
   "execution_count": 97,
   "metadata": {},
   "outputs": [
    {
     "data": {
      "text/plain": [
       "scipy.sparse.csr.csr_matrix"
      ]
     },
     "execution_count": 97,
     "metadata": {},
     "output_type": "execute_result"
    }
   ],
   "source": [
    "type(addr_feature)"
   ]
  },
  {
   "cell_type": "code",
   "execution_count": 98,
   "metadata": {},
   "outputs": [
    {
     "data": {
      "text/plain": [
       "(2206399, 25140)"
      ]
     },
     "execution_count": 98,
     "metadata": {},
     "output_type": "execute_result"
    }
   ],
   "source": [
    "addr_feature.shape"
   ]
  },
  {
   "cell_type": "code",
   "execution_count": 99,
   "metadata": {},
   "outputs": [],
   "source": [
    "#addr_feature.toarray()"
   ]
  },
  {
   "cell_type": "code",
   "execution_count": 100,
   "metadata": {},
   "outputs": [],
   "source": [
    "\n",
    "label_encoder_DoW = LabelEncoder()\n",
    "DoW_feature = label_encoder_DoW.fit_transform(df_x.dayofweek.iloc[:].values)\n",
    "DoW_feature = DoW_feature.reshape(df_x.shape[0], 1)\n",
    "onehot_encoder_DoW = OneHotEncoder(sparse = False)\n",
    "DoW_feature = onehot_encoder_DoW.fit_transform(DoW_feature)\n",
    "label_encoder_res = LabelEncoder()\n",
    "res_feature = label_encoder_res.fit_transform(df_x.resolution.iloc[:].values)\n",
    "res_feature = res_feature.reshape(df_x.shape[0], 1)\n",
    "onehot_encoder_res = OneHotEncoder(sparse = False)\n",
    "res_feature = onehot_encoder_res.fit_transform(res_feature)\n",
    "\n",
    "day = df_x.day.values\n",
    "month = df_x.month.values\n",
    "year = df_x.year.values\n",
    "hour = df_x.hour.values\n",
    "x = df_x.x.values"
   ]
  },
  {
   "cell_type": "code",
   "execution_count": 101,
   "metadata": {},
   "outputs": [],
   "source": [
    "\n",
    "y = df_x.y.values\n",
    "\n",
    "columns = []\n",
    "#columns.append(addr_feature)\n",
    "columns.append(DoW_feature)\n",
    "columns.append(res_feature)\n",
    "columns.append(pddistrict_feature)\n",
    "columns.append(x)\n",
    "columns.append(y)\n",
    "columns.append(day)\n",
    "columns.append(month)\n",
    "columns.append(year)\n",
    "columns.append(hour)\n",
    "encoded_feats = column_stack(columns)\n",
    "#sparse_features = sparse.csr_matrix(encoded_feats)"
   ]
  },
  {
   "cell_type": "code",
   "execution_count": 102,
   "metadata": {},
   "outputs": [
    {
     "data": {
      "text/plain": [
       "(2206399, 41)"
      ]
     },
     "execution_count": 102,
     "metadata": {},
     "output_type": "execute_result"
    }
   ],
   "source": [
    "encoded_feats.shape"
   ]
  },
  {
   "cell_type": "code",
   "execution_count": 103,
   "metadata": {},
   "outputs": [],
   "source": [
    "sparse_test = sparse.hstack((encoded_feats,addr_feature))"
   ]
  },
  {
   "cell_type": "code",
   "execution_count": 104,
   "metadata": {},
   "outputs": [
    {
     "data": {
      "text/plain": [
       "scipy.sparse.coo.coo_matrix"
      ]
     },
     "execution_count": 104,
     "metadata": {},
     "output_type": "execute_result"
    }
   ],
   "source": [
    "type(sparse_test)"
   ]
  },
  {
   "cell_type": "code",
   "execution_count": 105,
   "metadata": {},
   "outputs": [
    {
     "data": {
      "text/plain": [
       "(2206399, 25181)"
      ]
     },
     "execution_count": 105,
     "metadata": {},
     "output_type": "execute_result"
    }
   ],
   "source": [
    "sparse_test.shape"
   ]
  },
  {
   "cell_type": "code",
   "execution_count": 106,
   "metadata": {},
   "outputs": [
    {
     "name": "stdout",
     "output_type": "stream",
     "text": [
      "Fitting 3 folds for each of 3 candidates, totalling 9 fits\n",
      "[CV] n_estimators=240, learning_rate=0.07479638183675186, colsample_bytree=0.7980509755593868, max_depth=4 \n",
      "[CV] n_estimators=240, learning_rate=0.07479638183675186, colsample_bytree=0.7980509755593868, max_depth=4 \n",
      "[CV] n_estimators=240, learning_rate=0.07479638183675186, colsample_bytree=0.7980509755593868, max_depth=4 \n",
      "[CV] n_estimators=120, learning_rate=0.06141829094212287, colsample_bytree=0.5276686618562294, max_depth=4 \n",
      "[CV] n_estimators=120, learning_rate=0.06141829094212287, colsample_bytree=0.5276686618562294, max_depth=4 \n",
      "[CV] n_estimators=120, learning_rate=0.06141829094212287, colsample_bytree=0.5276686618562294, max_depth=4 \n",
      "[CV] n_estimators=240, learning_rate=0.08040707535403382, colsample_bytree=0.9999383201516157, max_depth=8 \n",
      "[CV] n_estimators=240, learning_rate=0.08040707535403382, colsample_bytree=0.9999383201516157, max_depth=8 \n",
      "[CV] n_estimators=240, learning_rate=0.08040707535403382, colsample_bytree=0.9999383201516157, max_depth=8 \n"
     ]
    },
    {
     "name": "stderr",
     "output_type": "stream",
     "text": [
      "/home/ubuntu/anaconda2/lib/python2.7/site-packages/sklearn/preprocessing/label.py:151: DeprecationWarning: The truth value of an empty array is ambiguous. Returning False, but in future this will result in an error. Use `array.size > 0` to check that an array is not empty.\n",
      "  if diff:\n",
      "/home/ubuntu/anaconda2/lib/python2.7/site-packages/sklearn/preprocessing/label.py:151: DeprecationWarning: The truth value of an empty array is ambiguous. Returning False, but in future this will result in an error. Use `array.size > 0` to check that an array is not empty.\n",
      "  if diff:\n",
      "/home/ubuntu/anaconda2/lib/python2.7/site-packages/sklearn/preprocessing/label.py:151: DeprecationWarning: The truth value of an empty array is ambiguous. Returning False, but in future this will result in an error. Use `array.size > 0` to check that an array is not empty.\n",
      "  if diff:\n",
      "/home/ubuntu/anaconda2/lib/python2.7/site-packages/sklearn/preprocessing/label.py:151: DeprecationWarning: The truth value of an empty array is ambiguous. Returning False, but in future this will result in an error. Use `array.size > 0` to check that an array is not empty.\n",
      "  if diff:\n"
     ]
    },
    {
     "name": "stdout",
     "output_type": "stream",
     "text": [
      "[CV]  n_estimators=120, learning_rate=0.06141829094212287, colsample_bytree=0.5276686618562294, max_depth=4, score=0.361964118183, total=135.5min\n"
     ]
    },
    {
     "name": "stderr",
     "output_type": "stream",
     "text": [
      "/home/ubuntu/anaconda2/lib/python2.7/site-packages/sklearn/preprocessing/label.py:151: DeprecationWarning: The truth value of an empty array is ambiguous. Returning False, but in future this will result in an error. Use `array.size > 0` to check that an array is not empty.\n",
      "  if diff:\n"
     ]
    },
    {
     "name": "stdout",
     "output_type": "stream",
     "text": [
      "[CV]  n_estimators=120, learning_rate=0.06141829094212287, colsample_bytree=0.5276686618562294, max_depth=4, score=0.361335925736, total=136.6min\n"
     ]
    },
    {
     "name": "stderr",
     "output_type": "stream",
     "text": [
      "[Parallel(n_jobs=-1)]: Done   2 out of   9 | elapsed: 140.2min remaining: 490.5min\n",
      "/home/ubuntu/anaconda2/lib/python2.7/site-packages/sklearn/preprocessing/label.py:151: DeprecationWarning: The truth value of an empty array is ambiguous. Returning False, but in future this will result in an error. Use `array.size > 0` to check that an array is not empty.\n",
      "  if diff:\n"
     ]
    },
    {
     "name": "stdout",
     "output_type": "stream",
     "text": [
      "[CV]  n_estimators=120, learning_rate=0.06141829094212287, colsample_bytree=0.5276686618562294, max_depth=4, score=0.362472104522, total=137.0min\n"
     ]
    },
    {
     "name": "stderr",
     "output_type": "stream",
     "text": [
      "[Parallel(n_jobs=-1)]: Done   3 out of   9 | elapsed: 140.5min remaining: 281.0min\n",
      "/home/ubuntu/anaconda2/lib/python2.7/site-packages/sklearn/preprocessing/label.py:151: DeprecationWarning: The truth value of an empty array is ambiguous. Returning False, but in future this will result in an error. Use `array.size > 0` to check that an array is not empty.\n",
      "  if diff:\n",
      "/home/ubuntu/anaconda2/lib/python2.7/site-packages/sklearn/preprocessing/label.py:151: DeprecationWarning: The truth value of an empty array is ambiguous. Returning False, but in future this will result in an error. Use `array.size > 0` to check that an array is not empty.\n",
      "  if diff:\n",
      "/home/ubuntu/anaconda2/lib/python2.7/site-packages/sklearn/preprocessing/label.py:151: DeprecationWarning: The truth value of an empty array is ambiguous. Returning False, but in future this will result in an error. Use `array.size > 0` to check that an array is not empty.\n",
      "  if diff:\n",
      "/home/ubuntu/anaconda2/lib/python2.7/site-packages/sklearn/preprocessing/label.py:151: DeprecationWarning: The truth value of an empty array is ambiguous. Returning False, but in future this will result in an error. Use `array.size > 0` to check that an array is not empty.\n",
      "  if diff:\n"
     ]
    },
    {
     "name": "stdout",
     "output_type": "stream",
     "text": [
      "[CV]  n_estimators=240, learning_rate=0.07479638183675186, colsample_bytree=0.7980509755593868, max_depth=4, score=0.368589133479, total=243.8min\n"
     ]
    },
    {
     "name": "stderr",
     "output_type": "stream",
     "text": [
      "[Parallel(n_jobs=-1)]: Done   4 out of   9 | elapsed: 248.7min remaining: 310.9min\n",
      "/home/ubuntu/anaconda2/lib/python2.7/site-packages/sklearn/preprocessing/label.py:151: DeprecationWarning: The truth value of an empty array is ambiguous. Returning False, but in future this will result in an error. Use `array.size > 0` to check that an array is not empty.\n",
      "  if diff:\n"
     ]
    },
    {
     "name": "stdout",
     "output_type": "stream",
     "text": [
      "[CV]  n_estimators=240, learning_rate=0.07479638183675186, colsample_bytree=0.7980509755593868, max_depth=4, score=0.367415268208, total=243.6min\n"
     ]
    },
    {
     "name": "stderr",
     "output_type": "stream",
     "text": [
      "[Parallel(n_jobs=-1)]: Done   5 out of   9 | elapsed: 248.8min remaining: 199.0min\n",
      "/home/ubuntu/anaconda2/lib/python2.7/site-packages/sklearn/preprocessing/label.py:151: DeprecationWarning: The truth value of an empty array is ambiguous. Returning False, but in future this will result in an error. Use `array.size > 0` to check that an array is not empty.\n",
      "  if diff:\n"
     ]
    },
    {
     "name": "stdout",
     "output_type": "stream",
     "text": [
      "[CV]  n_estimators=240, learning_rate=0.07479638183675186, colsample_bytree=0.7980509755593868, max_depth=4, score=0.368510955083, total=248.2min\n"
     ]
    },
    {
     "name": "stderr",
     "output_type": "stream",
     "text": [
      "[Parallel(n_jobs=-1)]: Done   6 out of   9 | elapsed: 252.0min remaining: 126.0min\n",
      "/home/ubuntu/anaconda2/lib/python2.7/site-packages/sklearn/preprocessing/label.py:151: DeprecationWarning: The truth value of an empty array is ambiguous. Returning False, but in future this will result in an error. Use `array.size > 0` to check that an array is not empty.\n",
      "  if diff:\n",
      "/home/ubuntu/anaconda2/lib/python2.7/site-packages/sklearn/preprocessing/label.py:151: DeprecationWarning: The truth value of an empty array is ambiguous. Returning False, but in future this will result in an error. Use `array.size > 0` to check that an array is not empty.\n",
      "  if diff:\n",
      "/home/ubuntu/anaconda2/lib/python2.7/site-packages/sklearn/preprocessing/label.py:151: DeprecationWarning: The truth value of an empty array is ambiguous. Returning False, but in future this will result in an error. Use `array.size > 0` to check that an array is not empty.\n",
      "  if diff:\n",
      "/home/ubuntu/anaconda2/lib/python2.7/site-packages/sklearn/preprocessing/label.py:151: DeprecationWarning: The truth value of an empty array is ambiguous. Returning False, but in future this will result in an error. Use `array.size > 0` to check that an array is not empty.\n",
      "  if diff:\n"
     ]
    },
    {
     "name": "stdout",
     "output_type": "stream",
     "text": [
      "[CV]  n_estimators=240, learning_rate=0.08040707535403382, colsample_bytree=0.9999383201516157, max_depth=8, score=0.379482185136, total=336.6min\n"
     ]
    },
    {
     "name": "stderr",
     "output_type": "stream",
     "text": [
      "[Parallel(n_jobs=-1)]: Done   7 out of   9 | elapsed: 345.3min remaining: 98.6min\n",
      "/home/ubuntu/anaconda2/lib/python2.7/site-packages/sklearn/preprocessing/label.py:151: DeprecationWarning: The truth value of an empty array is ambiguous. Returning False, but in future this will result in an error. Use `array.size > 0` to check that an array is not empty.\n",
      "  if diff:\n"
     ]
    },
    {
     "name": "stdout",
     "output_type": "stream",
     "text": [
      "[CV]  n_estimators=240, learning_rate=0.08040707535403382, colsample_bytree=0.9999383201516157, max_depth=8, score=0.378856736904, total=336.7min\n"
     ]
    },
    {
     "name": "stderr",
     "output_type": "stream",
     "text": [
      "/home/ubuntu/anaconda2/lib/python2.7/site-packages/sklearn/preprocessing/label.py:151: DeprecationWarning: The truth value of an empty array is ambiguous. Returning False, but in future this will result in an error. Use `array.size > 0` to check that an array is not empty.\n",
      "  if diff:\n"
     ]
    },
    {
     "name": "stdout",
     "output_type": "stream",
     "text": [
      "[CV]  n_estimators=240, learning_rate=0.08040707535403382, colsample_bytree=0.9999383201516157, max_depth=8, score=0.379658585666, total=340.1min\n"
     ]
    },
    {
     "name": "stderr",
     "output_type": "stream",
     "text": [
      "[Parallel(n_jobs=-1)]: Done   9 out of   9 | elapsed: 346.1min remaining:    0.0s\n",
      "[Parallel(n_jobs=-1)]: Done   9 out of   9 | elapsed: 346.1min finished\n"
     ]
    },
    {
     "name": "stdout",
     "output_type": "stream",
     "text": [
      "Best: 0.379332 using {'n_estimators': 240, 'learning_rate': 0.08040707535403382, 'colsample_bytree': 0.9999383201516157, 'max_depth': 8}\n"
     ]
    }
   ],
   "source": [
    "X_train, X_test, y_train, y_test = train_test_split(sparse_test, labelencoded_y, test_size=0.20, random_state=random_seed)\n",
    "\n",
    "model = XGBClassifier(nthread = n_threads) #or -1\n",
    "kfold = StratifiedKFold(n_splits=3, shuffle=True, random_state=random_seed)\n",
    "param_grid = {'n_estimators': [120, 240, 368, 480], #random int btwn 100 and 500 - removed\n",
    "              'learning_rate': stats.uniform(0.01, 0.08), #.01 + loc, range of .01+/-.08\n",
    "              'max_depth': [2, 4, 6, 8], #tree depths to check\n",
    "              'colsample_bytree': stats.uniform(0.3, 0.7) #btwn .1 and 1.0    \n",
    "}\n",
    "rand_search = RandomizedSearchCV(model, param_distributions = param_grid, scoring = 'f1_micro', n_iter = 3, n_jobs=-1, verbose = 10, cv=kfold)\n",
    "rand_result = rand_search.fit(X_train, y_train)\n",
    "print(\"Best: %f using %s\" % (rand_result.best_score_, rand_result.best_params_))\n",
    "best_XGB_parameters = rand_result.best_estimator_\n",
    "#INSERT CITY NAME FOR .DAT FILE\n",
    "pickle.dump(best_XGB_parameters, open(\"xgb_CITY.pickle.dat\", 'wb')) #change pickle\n",
    "\n"
   ]
  },
  {
   "cell_type": "code",
   "execution_count": 109,
   "metadata": {},
   "outputs": [
    {
     "data": {
      "text/plain": [
       "XGBClassifier(base_score=0.5, booster='gbtree', colsample_bylevel=1,\n",
       "       colsample_bytree=0.9999383201516157, gamma=0,\n",
       "       learning_rate=0.08040707535403382, max_delta_step=0, max_depth=8,\n",
       "       min_child_weight=1, missing=None, n_estimators=240, n_jobs=1,\n",
       "       nthread=36, objective='multi:softprob', random_state=0, reg_alpha=0,\n",
       "       reg_lambda=1, scale_pos_weight=1, seed=None, silent=True,\n",
       "       subsample=1)"
      ]
     },
     "execution_count": 109,
     "metadata": {},
     "output_type": "execute_result"
    }
   ],
   "source": [
    "#test on test set\n",
    "best_XGB_parameters.fit(X_train, y_train)\n"
   ]
  },
  {
   "cell_type": "code",
   "execution_count": 111,
   "metadata": {},
   "outputs": [
    {
     "data": {
      "image/png": "[encoded data removed]",
      "text/plain": [
       "<matplotlib.figure.Figure at 0x7f99af863610>"
      ]
     },
     "metadata": {},
     "output_type": "display_data"
    },
    {
     "name": "stderr",
     "output_type": "stream",
     "text": [
      "/home/ubuntu/anaconda2/lib/python2.7/site-packages/sklearn/preprocessing/label.py:151: DeprecationWarning: The truth value of an empty array is ambiguous. Returning False, but in future this will result in an error. Use `array.size > 0` to check that an array is not empty.\n",
      "  if diff:\n"
     ]
    }
   ],
   "source": [
    "preds = best_XGB_parameters.predict(X_test)\n",
    "f1score = f1_score(y_test, preds, average = 'micro')\n",
    "#CSV append best score after test set\n",
    "f1_score = []\n",
    "f1_score.append(('City', f1score))\n",
    "export_df = pd.DataFrame(f1_score)\n",
    "#change csv name\n",
    "export_df.to_csv(\"cityresults.dat\", index = False, header = False)"
   ]
  },
  {
   "cell_type": "code",
   "execution_count": 156,
   "metadata": {},
   "outputs": [],
   "source": [
    "#add code for graphing each parameter from cv search...\n",
    "#https://stackoverflow.com/questions/42793254/what-replaces-gridsearchcv-grid-scores-in-scikit\n",
    "\n",
    "param_scores = rand_result.cv_results_['mean_test_score']\n"
   ]
  },
  {
   "cell_type": "code",
   "execution_count": 165,
   "metadata": {},
   "outputs": [],
   "source": [
    "param_list = rand_result.cv_results_['params']"
   ]
  },
  {
   "cell_type": "code",
   "execution_count": 180,
   "metadata": {},
   "outputs": [],
   "source": [
    "colsamples = [param_list[0]['colsample_bytree'],param_list[1]['colsample_bytree'],param_list[2]['colsample_bytree']]\n",
    "learnrate = [param_list[0]['learning_rate'],param_list[1]['learning_rate'],param_list[2]['learning_rate']]\n",
    "maxdepth = [param_list[0]['max_depth'],param_list[1]['max_depth'],param_list[2]['max_depth']]\n",
    "estimators = [param_list[0]['n_estimators'],param_list[1]['n_estimators'],param_list[2]['n_estimators']]"
   ]
  },
  {
   "cell_type": "code",
   "execution_count": 167,
   "metadata": {},
   "outputs": [],
   "source": [
    "model_names = ['RS1', 'RS2', 'RS3']"
   ]
  },
  {
   "cell_type": "code",
   "execution_count": 181,
   "metadata": {},
   "outputs": [],
   "source": [
    "rscv_scores = pd.DataFrame()\n",
    "rscv_scores['Model Name'] = model_names\n",
    "rscv_scores['Scores'] = param_scores\n",
    "rscv_scores['col_samplesbytree'] = colsamples\n",
    "rscv_scores['learning_rates'] = learnrate\n",
    "rscv_scores['max_depths'] = maxdepth\n",
    "rscv_scores['# estimators'] = estimators"
   ]
  },
  {
   "cell_type": "code",
   "execution_count": 182,
   "metadata": {},
   "outputs": [
    {
     "data": {
      "text/html": [
       "<div>\n",
       "<style scoped>\n",
       "    .dataframe tbody tr th:only-of-type {\n",
       "        vertical-align: middle;\n",
       "    }\n",
       "\n",
       "    .dataframe tbody tr th {\n",
       "        vertical-align: top;\n",
       "    }\n",
       "\n",
       "    .dataframe thead th {\n",
       "        text-align: right;\n",
       "    }\n",
       "</style>\n",
       "<table border=\"1\" class=\"dataframe\">\n",
       "  <thead>\n",
       "    <tr style=\"text-align: right;\">\n",
       "      <th></th>\n",
       "      <th>Model Name</th>\n",
       "      <th>Scores</th>\n",
       "      <th>col_samplesbytree</th>\n",
       "      <th>learning_rates</th>\n",
       "      <th>max_depths</th>\n",
       "      <th># estimators</th>\n",
       "    </tr>\n",
       "  </thead>\n",
       "  <tbody>\n",
       "    <tr>\n",
       "      <th>0</th>\n",
       "      <td>RS1</td>\n",
       "      <td>0.368172</td>\n",
       "      <td>0.798051</td>\n",
       "      <td>0.074796</td>\n",
       "      <td>4</td>\n",
       "      <td>240</td>\n",
       "    </tr>\n",
       "    <tr>\n",
       "      <th>1</th>\n",
       "      <td>RS2</td>\n",
       "      <td>0.361924</td>\n",
       "      <td>0.527669</td>\n",
       "      <td>0.061418</td>\n",
       "      <td>4</td>\n",
       "      <td>120</td>\n",
       "    </tr>\n",
       "    <tr>\n",
       "      <th>2</th>\n",
       "      <td>RS3</td>\n",
       "      <td>0.379332</td>\n",
       "      <td>0.999938</td>\n",
       "      <td>0.080407</td>\n",
       "      <td>8</td>\n",
       "      <td>240</td>\n",
       "    </tr>\n",
       "  </tbody>\n",
       "</table>\n",
       "</div>"
      ],
      "text/plain": [
       "  Model Name    Scores  col_samplesbytree  learning_rates  max_depths  \\\n",
       "0        RS1  0.368172           0.798051        0.074796           4   \n",
       "1        RS2  0.361924           0.527669        0.061418           4   \n",
       "2        RS3  0.379332           0.999938        0.080407           8   \n",
       "\n",
       "   # estimators  \n",
       "0           240  \n",
       "1           120  \n",
       "2           240  "
      ]
     },
     "execution_count": 182,
     "metadata": {},
     "output_type": "execute_result"
    }
   ],
   "source": [
    "rscv_scores\n",
    "#used this in jupyter notebook to create visible table to put in report"
   ]
  },
  {
   "cell_type": "code",
   "execution_count": 183,
   "metadata": {},
   "outputs": [
    {
     "data": {
      "image/png": "[encoded data removed]",
      "text/plain": [
       "<matplotlib.figure.Figure at 0x7f99ab8b8250>"
      ]
     },
     "metadata": {},
     "output_type": "display_data"
    }
   ],
   "source": [
    "sns.set_style(\"whitegrid\")\n",
    "#might need to convert data from list to pandas DF..\n",
    "#try above first\n",
    "msplt = sns.barplot(x = \"Model Name\", y = \"Scores\", data=rscv_scores)\n",
    "msplt.set_xticklabels(msplt.get_xticklabels(), rotation =40, ha=\"right\")\n",
    "_ = plt.xlabel('Model')\n",
    "_ = plt.ylabel('f1 score')\n",
    "_ = plt.savefig('parameter_comparisons')\n",
    "_ = plt.show()"
   ]
  },
  {
   "cell_type": "code",
   "execution_count": null,
   "metadata": {},
   "outputs": [],
   "source": []
  }
 ],
 "metadata": {
  "kernelspec": {
   "display_name": "Python 2",
   "language": "python",
   "name": "python2"
  },
  "language_info": {
   "codemirror_mode": {
    "name": "ipython",
    "version": 2
   },
   "file_extension": ".py",
   "mimetype": "text/x-python",
   "name": "python",
   "nbconvert_exporter": "python",
   "pygments_lexer": "ipython2",
   "version": "2.7.14"
  }
 },
 "nbformat": 4,
 "nbformat_minor": 2
}
