{
 "cells": [
  {
   "cell_type": "code",
   "execution_count": 11,
   "metadata": {},
   "outputs": [],
   "source": [
    "import pandas as pd\n",
    "import matplotlib.pyplot as plt\n",
    "import seaborn as sns"
   ]
  },
  {
   "cell_type": "code",
   "execution_count": 12,
   "metadata": {},
   "outputs": [],
   "source": [
    "#need to add city after finishing\n",
    "df_city = pd.read_csv(\"cityresults.dat\", header=None)\n",
    "df_bayview = pd.read_csv(\"bayviewresults.dat\", header=None)\n",
    "df_ingleside = pd.read_csv(\"Ingleside_results.dat\", header=None)\n",
    "df_park = pd.read_csv(\"Park_results.dat\", header=None)\n",
    "df_taraval = pd.read_csv(\"Taraval_results.dat\", header=None)\n",
    "df_central = pd.read_csv(\"Central_results.dat\", header=None)\n",
    "df_mission = pd.read_csv(\"Mission_results.dat\", header=None)\n",
    "df_richmond = pd.read_csv(\"Richmond_results.dat\", header=None)\n",
    "df_tenderloin = pd.read_csv(\"Tenderloin_results.dat\", header=None)\n",
    "df_northern = pd.read_csv(\"Northern_results.dat\", header=None)\n",
    "df_southern = pd.read_csv(\"Southern_results.dat\", header=None)"
   ]
  },
  {
   "cell_type": "code",
   "execution_count": 13,
   "metadata": {},
   "outputs": [],
   "source": [
    "f1_score = []\n",
    "f1_score.append(df_city)\n",
    "f1_score.append(df_bayview)\n",
    "f1_score.append(df_ingleside)\n",
    "f1_score.append(df_park)\n",
    "f1_score.append(df_taraval)\n",
    "f1_score.append(df_central)\n",
    "f1_score.append(df_mission)\n",
    "f1_score.append(df_richmond)\n",
    "f1_score.append(df_tenderloin)\n",
    "f1_score.append(df_northern)\n",
    "f1_score.append(df_southern)"
   ]
  },
  {
   "cell_type": "code",
   "execution_count": 14,
   "metadata": {},
   "outputs": [],
   "source": [
    "df_dist = pd.concat(f1_score, axis = 0, ignore_index=True)"
   ]
  },
  {
   "cell_type": "code",
   "execution_count": 15,
   "metadata": {},
   "outputs": [],
   "source": [
    "df_dist.columns = ['model', 'f1']"
   ]
  },
  {
   "cell_type": "code",
   "execution_count": 16,
   "metadata": {},
   "outputs": [
    {
     "data": {
      "text/html": [
       "<div>\n",
       "<style scoped>\n",
       "    .dataframe tbody tr th:only-of-type {\n",
       "        vertical-align: middle;\n",
       "    }\n",
       "\n",
       "    .dataframe tbody tr th {\n",
       "        vertical-align: top;\n",
       "    }\n",
       "\n",
       "    .dataframe thead th {\n",
       "        text-align: right;\n",
       "    }\n",
       "</style>\n",
       "<table border=\"1\" class=\"dataframe\">\n",
       "  <thead>\n",
       "    <tr style=\"text-align: right;\">\n",
       "      <th></th>\n",
       "      <th>model</th>\n",
       "      <th>f1</th>\n",
       "    </tr>\n",
       "  </thead>\n",
       "  <tbody>\n",
       "    <tr>\n",
       "      <th>0</th>\n",
       "      <td>City</td>\n",
       "      <td>0.382020</td>\n",
       "    </tr>\n",
       "    <tr>\n",
       "      <th>1</th>\n",
       "      <td>Bayview</td>\n",
       "      <td>0.352562</td>\n",
       "    </tr>\n",
       "    <tr>\n",
       "      <th>2</th>\n",
       "      <td>Ingleside</td>\n",
       "      <td>0.335201</td>\n",
       "    </tr>\n",
       "    <tr>\n",
       "      <th>3</th>\n",
       "      <td>Park</td>\n",
       "      <td>0.377947</td>\n",
       "    </tr>\n",
       "    <tr>\n",
       "      <th>4</th>\n",
       "      <td>Taraval</td>\n",
       "      <td>0.346276</td>\n",
       "    </tr>\n",
       "    <tr>\n",
       "      <th>5</th>\n",
       "      <td>Central</td>\n",
       "      <td>0.420972</td>\n",
       "    </tr>\n",
       "    <tr>\n",
       "      <th>6</th>\n",
       "      <td>Mission</td>\n",
       "      <td>0.361464</td>\n",
       "    </tr>\n",
       "    <tr>\n",
       "      <th>7</th>\n",
       "      <td>Richmond</td>\n",
       "      <td>0.374957</td>\n",
       "    </tr>\n",
       "    <tr>\n",
       "      <th>8</th>\n",
       "      <td>Tenderloin</td>\n",
       "      <td>0.396360</td>\n",
       "    </tr>\n",
       "    <tr>\n",
       "      <th>9</th>\n",
       "      <td>Northern</td>\n",
       "      <td>0.413667</td>\n",
       "    </tr>\n",
       "    <tr>\n",
       "      <th>10</th>\n",
       "      <td>Southern</td>\n",
       "      <td>0.424929</td>\n",
       "    </tr>\n",
       "  </tbody>\n",
       "</table>\n",
       "</div>"
      ],
      "text/plain": [
       "         model        f1\n",
       "0         City  0.382020\n",
       "1      Bayview  0.352562\n",
       "2    Ingleside  0.335201\n",
       "3         Park  0.377947\n",
       "4      Taraval  0.346276\n",
       "5      Central  0.420972\n",
       "6      Mission  0.361464\n",
       "7     Richmond  0.374957\n",
       "8   Tenderloin  0.396360\n",
       "9     Northern  0.413667\n",
       "10    Southern  0.424929"
      ]
     },
     "execution_count": 16,
     "metadata": {},
     "output_type": "execute_result"
    }
   ],
   "source": [
    "df_dist"
   ]
  },
  {
   "cell_type": "code",
   "execution_count": 17,
   "metadata": {},
   "outputs": [
    {
     "data": {
      "text/plain": [
       "(11, 2)"
      ]
     },
     "execution_count": 17,
     "metadata": {},
     "output_type": "execute_result"
    }
   ],
   "source": [
    "df_dist.shape"
   ]
  },
  {
   "cell_type": "code",
   "execution_count": 18,
   "metadata": {},
   "outputs": [
    {
     "data": {
      "image/png": "[encoded data removed]",
      "text/plain": [
       "<matplotlib.figure.Figure at 0x7f8667b48450>"
      ]
     },
     "metadata": {},
     "output_type": "display_data"
    }
   ],
   "source": [
    "sns.set_style(\"whitegrid\")\n",
    "#might need to convert data from list to pandas DF..\n",
    "#try above first\n",
    "msplt = sns.barplot(x = \"model\", y = \"f1\", data=df_dist)\n",
    "msplt.set_xticklabels(msplt.get_xticklabels(), rotation =40, ha=\"right\")\n",
    "_ = plt.xlabel('Model')\n",
    "_ = plt.ylabel('f1 score')\n",
    "_ = plt.savefig('district_comparisons')\n",
    "_ = plt.show()"
   ]
  },
  {
   "cell_type": "code",
   "execution_count": null,
   "metadata": {},
   "outputs": [],
   "source": []
  }
 ],
 "metadata": {
  "kernelspec": {
   "display_name": "Python 2",
   "language": "python",
   "name": "python2"
  },
  "language_info": {
   "codemirror_mode": {
    "name": "ipython",
    "version": 2
   },
   "file_extension": ".py",
   "mimetype": "text/x-python",
   "name": "python",
   "nbconvert_exporter": "python",
   "pygments_lexer": "ipython2",
   "version": "2.7.14"
  }
 },
 "nbformat": 4,
 "nbformat_minor": 2
}
