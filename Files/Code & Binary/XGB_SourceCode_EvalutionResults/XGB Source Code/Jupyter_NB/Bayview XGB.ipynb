{
 "cells": [
  {
   "cell_type": "code",
   "execution_count": 70,
   "metadata": {},
   "outputs": [],
   "source": [
    "import pandas as pd\n",
    "import numpy as np\n",
    "from numpy import column_stack\n",
    "from xgboost import XGBClassifier\n",
    "from sklearn.preprocessing import LabelEncoder\n",
    "from sklearn.preprocessing import OneHotEncoder\n",
    "from sklearn.model_selection import StratifiedKFold\n",
    "from sklearn.model_selection import cross_val_score\n",
    "from sklearn.model_selection import RandomizedSearchCV\n",
    "from sklearn.model_selection import train_test_split\n",
    "#from scipy.stats import uniform\n",
    "#from scipy.stats import randint\n",
    "from sklearn.metrics import f1_score\n",
    "from scipy import stats\n",
    "from time import time\n",
    "import matplotlib.pyplot as plt\n",
    "from xgboost import plot_importance\n",
    "import re\n",
    "from scipy import sparse\n",
    "from datetime import datetime\n",
    "import pickle\n",
    "import seaborn as sns"
   ]
  },
  {
   "cell_type": "code",
   "execution_count": 2,
   "metadata": {},
   "outputs": [],
   "source": [
    "#tune per how many available per your system... 16 is max on this EC2 instance, while -1 is technically\n",
    "#supposed to choose the max amount of cores it does not max work always.. see documentation link\n",
    "n_threads = 36\n",
    "model_scores = []\n",
    "#track time for script to run\n"
   ]
  },
  {
   "cell_type": "code",
   "execution_count": 3,
   "metadata": {},
   "outputs": [],
   "source": [
    "#set random_seed for reproduction purposes..\n",
    "random_seed = 10"
   ]
  },
  {
   "cell_type": "code",
   "execution_count": 4,
   "metadata": {},
   "outputs": [],
   "source": [
    "df_bayview = pd.read_csv('/home/ubuntu/CSVs/BAYVIEW_data.csv')"
   ]
  },
  {
   "cell_type": "code",
   "execution_count": 5,
   "metadata": {},
   "outputs": [
    {
     "name": "stdout",
     "output_type": "stream",
     "text": [
      "(219461, 13)\n"
     ]
    }
   ],
   "source": [
    "print(df_bayview.shape)"
   ]
  },
  {
   "cell_type": "code",
   "execution_count": 6,
   "metadata": {},
   "outputs": [
    {
     "name": "stdout",
     "output_type": "stream",
     "text": [
      "address\n",
      "category\n",
      "date\n",
      "dayofweek\n",
      "descript\n",
      "incidntnum\n",
      "location\n",
      "pddistrict\n",
      "pdid\n",
      "resolution\n",
      "time\n",
      "x\n",
      "y\n"
     ]
    }
   ],
   "source": [
    "for col in df_bayview.columns:\n",
    "    print(col)"
   ]
  },
  {
   "cell_type": "code",
   "execution_count": 7,
   "metadata": {},
   "outputs": [
    {
     "name": "stdout",
     "output_type": "stream",
     "text": [
      "['ARREST, BOOKED' 'NONE' 'UNFOUNDED' 'ARREST, CITED'\n",
      " 'DISTRICT ATTORNEY REFUSES TO PROSECUTE' 'LOCATED' 'JUVENILE BOOKED'\n",
      " 'JUVENILE CITED' 'PROSECUTED FOR LESSER OFFENSE' 'PSYCHOPATHIC CASE'\n",
      " 'NOT PROSECUTED' 'PROSECUTED BY OUTSIDE AGENCY'\n",
      " 'COMPLAINANT REFUSES TO PROSECUTE' 'JUVENILE DIVERTED'\n",
      " 'EXCEPTIONAL CLEARANCE' 'JUVENILE ADMONISHED'\n",
      " 'CLEARED-CONTACT JUVENILE FOR MORE INFO']\n",
      "17\n"
     ]
    }
   ],
   "source": [
    "print(df_bayview.resolution.unique())\n",
    "print(df_bayview.resolution.nunique())"
   ]
  },
  {
   "cell_type": "code",
   "execution_count": 8,
   "metadata": {},
   "outputs": [],
   "source": [
    "#Only going to drop columns with 100% no relevance or correlation and then use\n",
    "#OHE, label encoding on non numeric types...  Will test with only labelencoder as well(all ordinal)\n",
    "#Drop Columns pdid, pddistrict(Already split by district), incidentnum, pdid, location, description(Can't use b/c its cheating)\n",
    "df_bayview = df_bayview.drop(columns=['pddistrict', 'incidntnum', 'pdid', 'location', 'descript'])"
   ]
  },
  {
   "cell_type": "code",
   "execution_count": 9,
   "metadata": {},
   "outputs": [
    {
     "name": "stdout",
     "output_type": "stream",
     "text": [
      "(219461, 8)\n"
     ]
    }
   ],
   "source": [
    "print(df_bayview.shape)"
   ]
  },
  {
   "cell_type": "code",
   "execution_count": 10,
   "metadata": {},
   "outputs": [
    {
     "name": "stdout",
     "output_type": "stream",
     "text": [
      "address\n",
      "category\n",
      "date\n",
      "dayofweek\n",
      "resolution\n",
      "time\n",
      "x\n",
      "y\n"
     ]
    }
   ],
   "source": [
    "for col in df_bayview.columns:\n",
    "    print(col)"
   ]
  },
  {
   "cell_type": "code",
   "execution_count": 11,
   "metadata": {},
   "outputs": [],
   "source": [
    "df_y = df_bayview['category']\n",
    "#put category column into seperate target DF"
   ]
  },
  {
   "cell_type": "code",
   "execution_count": 12,
   "metadata": {},
   "outputs": [
    {
     "name": "stdout",
     "output_type": "stream",
     "text": [
      "address\n",
      "date\n",
      "dayofweek\n",
      "resolution\n",
      "time\n",
      "x\n",
      "y\n"
     ]
    }
   ],
   "source": [
    "#drop category column from feature dataframe.\n",
    "df_x = df_bayview.drop(columns=['category'])\n",
    "for col in df_x.columns:\n",
    "    print(col)"
   ]
  },
  {
   "cell_type": "code",
   "execution_count": 13,
   "metadata": {},
   "outputs": [
    {
     "name": "stdout",
     "output_type": "stream",
     "text": [
      "39\n"
     ]
    }
   ],
   "source": [
    "#39 UNIQUE CATEGORIES BASED ON THIS NUMBER\n",
    "print(df_y.nunique())"
   ]
  },
  {
   "cell_type": "code",
   "execution_count": 14,
   "metadata": {},
   "outputs": [],
   "source": [
    "#use labelencoder to convert to numeric/integer values\n",
    "labelencoder = LabelEncoder()\n",
    "labelencoder = labelencoder.fit(df_y)\n",
    "#list(labelencoder.classes_)\n"
   ]
  },
  {
   "cell_type": "code",
   "execution_count": 15,
   "metadata": {},
   "outputs": [],
   "source": [
    "labelencoded_y = labelencoder.transform(df_y)"
   ]
  },
  {
   "cell_type": "code",
   "execution_count": 16,
   "metadata": {},
   "outputs": [
    {
     "data": {
      "text/plain": [
       "(219461,)"
      ]
     },
     "execution_count": 16,
     "metadata": {},
     "output_type": "execute_result"
    }
   ],
   "source": [
    "labelencoded_y.shape"
   ]
  },
  {
   "cell_type": "code",
   "execution_count": 17,
   "metadata": {},
   "outputs": [],
   "source": [
    "#integer versions of targets\n",
    "#print(labelencoded_y)"
   ]
  },
  {
   "cell_type": "code",
   "execution_count": 18,
   "metadata": {},
   "outputs": [],
   "source": [
    "#this lists all the integer versions of categories as strings again..\n",
    "#for my own use to test labelencoder\n",
    "#list(labelencoder.inverse_transform(labelencoded_y))"
   ]
  },
  {
   "cell_type": "code",
   "execution_count": 19,
   "metadata": {},
   "outputs": [],
   "source": [
    "#drop category column from feature dataframe.\n",
    "###test up to here should be address, date, dow, resolution, time, x and y as columns"
   ]
  },
  {
   "cell_type": "code",
   "execution_count": 20,
   "metadata": {},
   "outputs": [],
   "source": [
    "#address, dayofweek, resolution need to be onehotencoded..\n",
    "#date needs to be seperated \n",
    "#time needs to be \n",
    "#might need to chop off loc as it is very specific\n",
    "#first step is to convert date to 3 seperate columns"
   ]
  },
  {
   "cell_type": "code",
   "execution_count": 21,
   "metadata": {},
   "outputs": [],
   "source": [
    "#convert date to seperate values for day, month, hour\n",
    "def convert_date_to_day(dt):\n",
    "\n",
    "   result = re.findall(r'\\d{4}-(\\d{2})-(\\d{2})T00:00:00.000',dt)\n",
    "\n",
    "   return result[0][1]\n",
    "\n",
    "   \n",
    "\n",
    "def convert_date_to_month(dt):\n",
    "\n",
    "   result = re.findall(r'\\d{4}-(\\d{2})-(\\d{2})T00:00:00.000',dt)\n",
    "\n",
    "   return result[0][0]\n",
    "\n",
    "\n",
    "def convert_date_to_year(dt):\n",
    "    \n",
    "    result = re.findall(r'(\\d{4})-(\\d{2})-(\\d{2})T00:00:00.000',dt)\n",
    "\n",
    "    return result[0][0]\n",
    "\n",
    "def convert_time_to_hour(tm):\n",
    "\n",
    "   result = re.findall(r'(\\d{2}):\\d{2}',tm)\n",
    "\n",
    "   return result[0]\n"
   ]
  },
  {
   "cell_type": "code",
   "execution_count": 22,
   "metadata": {},
   "outputs": [],
   "source": [
    "df_x['day'] = df_x.date.apply(lambda x: convert_date_to_day(x))\n",
    "df_x['month'] = df_x.date.apply(lambda x: convert_date_to_month(x))\n",
    "df_x['year'] = df_x.date.apply(lambda x: convert_date_to_year(x))\n",
    "df_x['hour'] = df_x.time.apply(lambda x: convert_time_to_hour(x))"
   ]
  },
  {
   "cell_type": "code",
   "execution_count": 23,
   "metadata": {},
   "outputs": [],
   "source": [
    "# print(df_x.year.unique())\n",
    "# print(df_x.month.unique())\n",
    "# print(df_x.day.unique())\n",
    "# print(df_x.hour.unique())"
   ]
  },
  {
   "cell_type": "code",
   "execution_count": 24,
   "metadata": {},
   "outputs": [
    {
     "name": "stdout",
     "output_type": "stream",
     "text": [
      "address\n",
      "dayofweek\n",
      "resolution\n",
      "x\n",
      "y\n",
      "day\n",
      "month\n",
      "year\n",
      "hour\n"
     ]
    }
   ],
   "source": [
    "#drop year column from feature dataframe.\n",
    "df_x = df_x.drop(columns=['date', 'time'])\n",
    "for col in df_x.columns:\n",
    "    print(col)"
   ]
  },
  {
   "cell_type": "code",
   "execution_count": 25,
   "metadata": {},
   "outputs": [
    {
     "name": "stdout",
     "output_type": "stream",
     "text": [
      "('address', <type 'str'>)\n",
      "('dayofweek', <type 'str'>)\n",
      "('resolution', <type 'str'>)\n",
      "('day', <type 'str'>)\n",
      "('month', <type 'str'>)\n",
      "('year', <type 'str'>)\n",
      "('hour', <type 'str'>)\n",
      "('x', <type 'numpy.float64'>)\n",
      "('y', <type 'numpy.float64'>)\n"
     ]
    }
   ],
   "source": [
    "#check which input features are string types/non-integers so I know which ones I need\n",
    "#to one hot encode for use in XGB\n",
    "print(\"address\", type(df_x.address.iloc[1]))\n",
    "print(\"dayofweek\", type(df_x.dayofweek.iloc[1]))\n",
    "print(\"resolution\", type(df_x.resolution.iloc[1]))\n",
    "print(\"day\", type(df_x.day.iloc[1]))\n",
    "print(\"month\", type(df_x.month.iloc[1]))\n",
    "print(\"year\", type(df_x.year.iloc[1]))\n",
    "print(\"hour\", type(df_x.hour.iloc[1]))\n",
    "print(\"x\", type(df_x.x.iloc[1]))\n",
    "print(\"y\", type(df_x.y.iloc[1]))"
   ]
  },
  {
   "cell_type": "code",
   "execution_count": 26,
   "metadata": {},
   "outputs": [],
   "source": [
    "#need to OHE address, dayofweek, resolution\n",
    "#convert time, day, month, year to ints? or OHE?"
   ]
  },
  {
   "cell_type": "code",
   "execution_count": 27,
   "metadata": {},
   "outputs": [],
   "source": [
    "#df_x will be with used for all labelencoded/none OHE'd\n",
    "#df_x_int will be with day/month/year/hour converted to integers,\n",
    "#logically since day/month/year/hour are ordinal they shouldn't have to be one\n",
    "#hot encoded as they should share a relationship(e.g. hour 23 and 00) but \n",
    "#the relationship may be hard for XGB model to understand... so test w/ both\n",
    "df_x_int = df_x"
   ]
  },
  {
   "cell_type": "code",
   "execution_count": 28,
   "metadata": {},
   "outputs": [],
   "source": [
    "df_x['day'] = (df_x['day']).astype(int)\n",
    "df_x['month'] = (df_x['month']).astype(int)\n",
    "df_x['year'] = (df_x['year']).astype(int)\n",
    "df_x['hour'] = (df_x['hour']).astype(int)"
   ]
  },
  {
   "cell_type": "code",
   "execution_count": 29,
   "metadata": {},
   "outputs": [],
   "source": [
    "df_x_int['day'] = (df_x_int['day']).astype(int)\n",
    "df_x_int['month'] = (df_x_int['month']).astype(int)\n",
    "df_x_int['year'] = (df_x_int['year']).astype(int)\n",
    "df_x_int['hour'] = (df_x_int['hour']).astype(int)"
   ]
  },
  {
   "cell_type": "code",
   "execution_count": 30,
   "metadata": {},
   "outputs": [
    {
     "name": "stdout",
     "output_type": "stream",
     "text": [
      "('address', <type 'str'>)\n",
      "('dayofweek', <type 'str'>)\n",
      "('resolution', <type 'str'>)\n",
      "('day', <type 'numpy.int64'>)\n",
      "('month', <type 'numpy.int64'>)\n",
      "('year', <type 'numpy.int64'>)\n",
      "('hour', <type 'numpy.int64'>)\n",
      "('x', <type 'numpy.float64'>)\n",
      "('y', <type 'numpy.float64'>)\n"
     ]
    }
   ],
   "source": [
    "#df_x_int values before OHE\n",
    "print(\"address\", type(df_x_int.address.iloc[1]))\n",
    "print(\"dayofweek\", type(df_x_int.dayofweek.iloc[1]))\n",
    "print(\"resolution\", type(df_x_int.resolution.iloc[1]))\n",
    "print(\"day\", type(df_x_int.day.iloc[1]))\n",
    "print(\"month\", type(df_x_int.month.iloc[1]))\n",
    "print(\"year\", type(df_x_int.year.iloc[1]))\n",
    "print(\"hour\", type(df_x_int.hour.iloc[1]))\n",
    "print(\"x\", type(df_x_int.x.iloc[1]))\n",
    "print(\"y\", type(df_x_int.y.iloc[1]))"
   ]
  },
  {
   "cell_type": "code",
   "execution_count": 31,
   "metadata": {},
   "outputs": [],
   "source": [
    "#for df_x_int need to convert address, dayofweek, resolution to OHE\n",
    "#for df_x need to convert address, dayofweek, resolution, day, month, year, hour to OHE\n",
    "#list(df_x_int)"
   ]
  },
  {
   "cell_type": "code",
   "execution_count": 32,
   "metadata": {},
   "outputs": [],
   "source": [
    "#OHE'ing address, DoW, resolution for df_x_int first"
   ]
  },
  {
   "cell_type": "code",
   "execution_count": 33,
   "metadata": {},
   "outputs": [
    {
     "data": {
      "text/plain": [
       "(219461,)"
      ]
     },
     "execution_count": 33,
     "metadata": {},
     "output_type": "execute_result"
    }
   ],
   "source": [
    "#labelencoding only for df_x so it isn't sparse, also has effect of ordinal relationships even if they don't, e.g. address\n",
    "#but that is fine for us for this test.\n",
    "label_encoder_addr = LabelEncoder()\n",
    "addr_feature = label_encoder_addr.fit_transform(df_x.address.iloc[:].values)\n",
    "addr_feature.shape\n",
    "#test with this feature first to see if shape is fine.. if it is then do on rest\n",
    "#-------------------------------"
   ]
  },
  {
   "cell_type": "code",
   "execution_count": 34,
   "metadata": {},
   "outputs": [],
   "source": [
    "label_encoder_DoW = LabelEncoder()\n",
    "DoW_feature = label_encoder_DoW.fit_transform(df_x.dayofweek.iloc[:].values)\n",
    "label_encoder_res = LabelEncoder()\n",
    "res_feature = label_encoder_res.fit_transform(df_x.resolution.iloc[:].values)"
   ]
  },
  {
   "cell_type": "code",
   "execution_count": 35,
   "metadata": {},
   "outputs": [],
   "source": [
    "#need to convert pandas series' for our already numeric features into numpy arrays so we can stack \n",
    "#them onto the encoded_features so that all features are in one 2d array\n",
    "day = df_x.day.values\n",
    "month = df_x.month.values\n",
    "year = df_x.year.values\n",
    "hour = df_x.hour.values\n",
    "x = df_x.x.values\n",
    "y = df_x.y.values\n",
    "\n",
    "#append all OH'd columns and the numeric columns\n",
    "columns = []\n",
    "columns.append(addr_feature)\n",
    "columns.append(DoW_feature)\n",
    "columns.append(res_feature)\n",
    "columns.append(x)\n",
    "columns.append(y)\n",
    "columns.append(day)\n",
    "columns.append(month)\n",
    "columns.append(year)\n",
    "columns.append(hour)\n",
    "encoded_feats_ordinal = column_stack(columns)"
   ]
  },
  {
   "cell_type": "code",
   "execution_count": 36,
   "metadata": {},
   "outputs": [],
   "source": [
    "#OHE'ing address for ordinal test\n",
    "label_encoder_addr = LabelEncoder()\n",
    "addr_feature = label_encoder_addr.fit_transform(df_x_int.address.iloc[:].values)\n",
    "#print(addr_feature)\n",
    "addr_feature = addr_feature.reshape(df_x_int.shape[0], 1)\n",
    "#print(addr_feature)\n",
    "onehot_encoder_addr = OneHotEncoder(sparse = False)\n",
    "addr_feature = onehot_encoder_addr.fit_transform(addr_feature)"
   ]
  },
  {
   "cell_type": "code",
   "execution_count": 37,
   "metadata": {},
   "outputs": [],
   "source": [
    "#OHE'ing dayofweek for ordinal test\n",
    "label_encoder_DoW = LabelEncoder()\n",
    "DoW_feature = label_encoder_DoW.fit_transform(df_x_int.dayofweek.iloc[:].values)\n",
    "#print(DoW_feature)\n",
    "DoW_feature = DoW_feature.reshape(df_x_int.shape[0], 1)\n",
    "#print(DoW_feature)\n",
    "onehot_encoder_DoW = OneHotEncoder(sparse = False)\n",
    "DoW_feature = onehot_encoder_DoW.fit_transform(DoW_feature)"
   ]
  },
  {
   "cell_type": "code",
   "execution_count": 38,
   "metadata": {},
   "outputs": [],
   "source": [
    "#OHE'ing resolution for ordinal test\n",
    "label_encoder_res = LabelEncoder()\n",
    "res_feature = label_encoder_res.fit_transform(df_x_int.resolution.iloc[:].values)\n",
    "#print(res_feature)\n",
    "#print(res_feature.shape)\n",
    "#print(df_x_int.resolution.shape)\n",
    "res_feature = res_feature.reshape(df_x_int.shape[0], 1)\n",
    "#print(res_feature)\n",
    "onehot_encoder_res = OneHotEncoder(sparse = False)\n",
    "res_feature = onehot_encoder_res.fit_transform(res_feature)"
   ]
  },
  {
   "cell_type": "code",
   "execution_count": 39,
   "metadata": {},
   "outputs": [
    {
     "name": "stdout",
     "output_type": "stream",
     "text": [
      "(219461, 7)\n",
      "(219461, 3785)\n",
      "(219461, 17)\n"
     ]
    }
   ],
   "source": [
    "#7 unique DoW's because 7 days, addr more complicated because many possible addresses\n",
    "#for Resolution as shown earlier in script their are 17 possible resolutions, so this is correct\n",
    "print(DoW_feature.shape)\n",
    "print(addr_feature.shape)\n",
    "print(res_feature.shape)"
   ]
  },
  {
   "cell_type": "code",
   "execution_count": 40,
   "metadata": {},
   "outputs": [],
   "source": [
    "#need to convert pandas series' for our already numeric features into numpy arrays so we can stack \n",
    "#them onto the encoded_features so that all features are in one 2d array\n",
    "day = df_x_int.day.values\n",
    "month = df_x_int.month.values\n",
    "year = df_x_int.year.values\n",
    "hour = df_x_int.hour.values\n",
    "x = df_x_int.x.values\n",
    "y = df_x_int.y.values"
   ]
  },
  {
   "cell_type": "code",
   "execution_count": 41,
   "metadata": {},
   "outputs": [],
   "source": [
    "#append all OH'd columns and the numeric columns\n",
    "columns = []\n",
    "columns.append(addr_feature)\n",
    "columns.append(DoW_feature)\n",
    "columns.append(res_feature)\n",
    "columns.append(x)\n",
    "columns.append(y)\n",
    "columns.append(day)\n",
    "columns.append(month)\n",
    "columns.append(year)\n",
    "columns.append(hour)\n",
    "encoded_feats = column_stack(columns)"
   ]
  },
  {
   "cell_type": "code",
   "execution_count": 42,
   "metadata": {},
   "outputs": [
    {
     "name": "stdout",
     "output_type": "stream",
     "text": [
      "(219461, 3815)\n",
      "(219461, 9)\n"
     ]
    }
   ],
   "source": [
    "#shape matches up.. 3809 from OH'd + 6 numeric = 3815 columns/features with 219336 total rows\n",
    "print(encoded_feats.shape)\n",
    "print(encoded_feats_ordinal.shape)"
   ]
  },
  {
   "cell_type": "code",
   "execution_count": 43,
   "metadata": {},
   "outputs": [],
   "source": [
    "sprase_features_ordinal = sparse.csr_matrix(encoded_feats_ordinal)"
   ]
  },
  {
   "cell_type": "code",
   "execution_count": 44,
   "metadata": {},
   "outputs": [],
   "source": [
    "#list(encoded_feats)"
   ]
  },
  {
   "cell_type": "code",
   "execution_count": 45,
   "metadata": {},
   "outputs": [],
   "source": [
    "#type(encoded_feats)"
   ]
  },
  {
   "cell_type": "code",
   "execution_count": 46,
   "metadata": {},
   "outputs": [],
   "source": [
    "#change array to sparse format for memory efficiency, otherwise XGB is too slow/intensive on EC2 instance\n",
    "sparse_features = sparse.csr_matrix(encoded_feats)"
   ]
  },
  {
   "cell_type": "code",
   "execution_count": 47,
   "metadata": {},
   "outputs": [],
   "source": [
    "#verifying shape is still fine\n",
    "#sparse_features"
   ]
  },
  {
   "cell_type": "code",
   "execution_count": 48,
   "metadata": {},
   "outputs": [],
   "source": [
    "#feature list in sparse format\n",
    "#type(sparse_features)"
   ]
  },
  {
   "cell_type": "code",
   "execution_count": 49,
   "metadata": {},
   "outputs": [],
   "source": [
    "#labels in numpy array\n",
    "#type(labelencoded_y)"
   ]
  },
  {
   "cell_type": "code",
   "execution_count": 50,
   "metadata": {},
   "outputs": [
    {
     "name": "stdout",
     "output_type": "stream",
     "text": [
      "[[    0   996]\n",
      " [    1 24596]\n",
      " [    2    73]\n",
      " [    3   155]\n",
      " [    4  9603]\n",
      " [    5   561]\n",
      " [    6   455]\n",
      " [    7  9768]\n",
      " [    8   572]\n",
      " [    9   291]\n",
      " [   10    59]\n",
      " [   11   179]\n",
      " [   12  1680]\n",
      " [   13  2183]\n",
      " [   14    57]\n",
      " [   15   801]\n",
      " [   16 27412]\n",
      " [   17   275]\n",
      " [   18   105]\n",
      " [   19 11227]\n",
      " [   20 15953]\n",
      " [   21 40583]\n",
      " [   22    10]\n",
      " [   23   138]\n",
      " [   24  1973]\n",
      " [   25  6333]\n",
      " [   26   559]\n",
      " [   27  4202]\n",
      " [   28  1044]\n",
      " [   29    58]\n",
      " [   30   954]\n",
      " [   31    78]\n",
      " [   32  9620]\n",
      " [   33     4]\n",
      " [   34  1623]\n",
      " [   35 13980]\n",
      " [   36 16801]\n",
      " [   37 10204]\n",
      " [   38  4296]]\n"
     ]
    }
   ],
   "source": [
    "#how imbalanced the label categories are\n",
    "from scipy.stats import itemfreq\n",
    "print(itemfreq(labelencoded_y))"
   ]
  },
  {
   "cell_type": "code",
   "execution_count": 51,
   "metadata": {},
   "outputs": [],
   "source": [
    "#our label targets are labelencoded_y and the features are encoded_feats\n",
    "#now we have to split into train/test set for XGB training and testing..\n",
    "#or use k-fold CV to verify.. i am only using simple kfold here to verify that features/label works properly\n",
    "#in a generic model.. not for final usage, still need to TUNE\n",
    "#Use stratified kfold because there are many classes and it enforces the same distribution of classes\n",
    "#in each fold as is in the whole dataset when performing CV..\n"
   ]
  },
  {
   "cell_type": "code",
   "execution_count": 52,
   "metadata": {},
   "outputs": [],
   "source": [
    "#train test split for one hot encoded so we can compare models on training set and tune(w/ CV) then test best model on test set to get accuracy\n",
    "X_train, X_test, y_train, y_test = train_test_split(sparse_features, labelencoded_y, test_size=0.20, random_state=random_seed)"
   ]
  },
  {
   "cell_type": "code",
   "execution_count": 53,
   "metadata": {},
   "outputs": [],
   "source": [
    "#train test split for non one hot encoded so we can compare models on training set and tune(w/ CV) then test best model on test set to get accuracy\n",
    "X_train_LE, X_test_LE, y_train_LE, y_test_LE = train_test_split(sprase_features_ordinal, labelencoded_y, test_size=0.20, random_state=random_seed)"
   ]
  },
  {
   "cell_type": "code",
   "execution_count": 54,
   "metadata": {},
   "outputs": [],
   "source": [
    "#XGB ON NONSPARSE/NON-OHE'D/ORDINAL DATASET\n",
    "model = XGBClassifier(nthread = n_threads)\n",
    "kfold = StratifiedKFold(n_splits=3, shuffle=True, random_state=random_seed)\n",
    "#use over the max, e.g. 1.1 instead of 1.0 for colsample since last value isnt used for randomsearch\n",
    "#verbose messages in ipython terminal not notebook.\n",
    "param_grid = {'n_estimators': [120, 240, 368, 480], #random int btwn 100 and 500\n",
    "              'learning_rate': stats.uniform(0.01, 0.08), #.01 + loc, range of .01+/-.08\n",
    "              'max_depth': [2, 4, 6, 8], #tree depths to check\n",
    "              'colsample_bytree': stats.uniform(0.3, 0.7) #btwn .1 and 1.0    \n",
    "}\n",
    "rand_search = RandomizedSearchCV(model, param_distributions = param_grid, scoring = 'f1_micro', n_iter = 3, n_jobs=-1, verbose = 10, cv=kfold)"
   ]
  },
  {
   "cell_type": "code",
   "execution_count": 55,
   "metadata": {},
   "outputs": [
    {
     "name": "stdout",
     "output_type": "stream",
     "text": [
      "Fitting 3 folds for each of 3 candidates, totalling 9 fits\n",
      "[CV] n_estimators=240, learning_rate=0.06737718880747161, colsample_bytree=0.790021191669819, max_depth=4 \n",
      "[CV] n_estimators=240, learning_rate=0.06737718880747161, colsample_bytree=0.790021191669819, max_depth=4 \n",
      "[CV] n_estimators=240, learning_rate=0.06737718880747161, colsample_bytree=0.790021191669819, max_depth=4 \n",
      "[CV] n_estimators=480, learning_rate=0.07623573613468444, colsample_bytree=0.5209042551730589, max_depth=8 \n",
      "[CV] n_estimators=480, learning_rate=0.07623573613468444, colsample_bytree=0.5209042551730589, max_depth=8 \n",
      "[CV] n_estimators=480, learning_rate=0.07623573613468444, colsample_bytree=0.5209042551730589, max_depth=8 \n",
      "[CV] n_estimators=480, learning_rate=0.051725155218588656, colsample_bytree=0.7696444353612459, max_depth=4 \n",
      "[CV] n_estimators=480, learning_rate=0.051725155218588656, colsample_bytree=0.7696444353612459, max_depth=4 \n",
      "[CV] n_estimators=480, learning_rate=0.051725155218588656, colsample_bytree=0.7696444353612459, max_depth=4 \n"
     ]
    },
    {
     "name": "stderr",
     "output_type": "stream",
     "text": [
      "/home/ubuntu/anaconda2/lib/python2.7/site-packages/sklearn/preprocessing/label.py:151: DeprecationWarning: The truth value of an empty array is ambiguous. Returning False, but in future this will result in an error. Use `array.size > 0` to check that an array is not empty.\n",
      "  if diff:\n",
      "/home/ubuntu/anaconda2/lib/python2.7/site-packages/sklearn/preprocessing/label.py:151: DeprecationWarning: The truth value of an empty array is ambiguous. Returning False, but in future this will result in an error. Use `array.size > 0` to check that an array is not empty.\n",
      "  if diff:\n",
      "/home/ubuntu/anaconda2/lib/python2.7/site-packages/sklearn/preprocessing/label.py:151: DeprecationWarning: The truth value of an empty array is ambiguous. Returning False, but in future this will result in an error. Use `array.size > 0` to check that an array is not empty.\n",
      "  if diff:\n"
     ]
    },
    {
     "name": "stdout",
     "output_type": "stream",
     "text": [
      "[CV]  n_estimators=240, learning_rate=0.06737718880747161, colsample_bytree=0.790021191669819, max_depth=4, score=0.351337958375, total=22.5min\n"
     ]
    },
    {
     "name": "stderr",
     "output_type": "stream",
     "text": [
      "/home/ubuntu/anaconda2/lib/python2.7/site-packages/sklearn/preprocessing/label.py:151: DeprecationWarning: The truth value of an empty array is ambiguous. Returning False, but in future this will result in an error. Use `array.size > 0` to check that an array is not empty.\n",
      "  if diff:\n"
     ]
    },
    {
     "name": "stdout",
     "output_type": "stream",
     "text": [
      "[CV]  n_estimators=240, learning_rate=0.06737718880747161, colsample_bytree=0.790021191669819, max_depth=4, score=0.350047853432, total=22.5min\n"
     ]
    },
    {
     "name": "stderr",
     "output_type": "stream",
     "text": [
      "[Parallel(n_jobs=-1)]: Done   2 out of   9 | elapsed: 23.3min remaining: 81.7min\n",
      "/home/ubuntu/anaconda2/lib/python2.7/site-packages/sklearn/preprocessing/label.py:151: DeprecationWarning: The truth value of an empty array is ambiguous. Returning False, but in future this will result in an error. Use `array.size > 0` to check that an array is not empty.\n",
      "  if diff:\n",
      "/home/ubuntu/anaconda2/lib/python2.7/site-packages/sklearn/preprocessing/label.py:151: DeprecationWarning: The truth value of an empty array is ambiguous. Returning False, but in future this will result in an error. Use `array.size > 0` to check that an array is not empty.\n",
      "  if diff:\n"
     ]
    },
    {
     "name": "stdout",
     "output_type": "stream",
     "text": [
      "[CV]  n_estimators=240, learning_rate=0.06737718880747161, colsample_bytree=0.790021191669819, max_depth=4, score=0.349677110739, total=23.7min\n"
     ]
    },
    {
     "name": "stderr",
     "output_type": "stream",
     "text": [
      "[Parallel(n_jobs=-1)]: Done   3 out of   9 | elapsed: 24.3min remaining: 48.6min\n",
      "/home/ubuntu/anaconda2/lib/python2.7/site-packages/sklearn/preprocessing/label.py:151: DeprecationWarning: The truth value of an empty array is ambiguous. Returning False, but in future this will result in an error. Use `array.size > 0` to check that an array is not empty.\n",
      "  if diff:\n",
      "/home/ubuntu/anaconda2/lib/python2.7/site-packages/sklearn/preprocessing/label.py:151: DeprecationWarning: The truth value of an empty array is ambiguous. Returning False, but in future this will result in an error. Use `array.size > 0` to check that an array is not empty.\n",
      "  if diff:\n"
     ]
    },
    {
     "name": "stdout",
     "output_type": "stream",
     "text": [
      "[CV]  n_estimators=480, learning_rate=0.051725155218588656, colsample_bytree=0.7696444353612459, max_depth=4, score=0.352068883042, total=37.9min\n"
     ]
    },
    {
     "name": "stderr",
     "output_type": "stream",
     "text": [
      "[Parallel(n_jobs=-1)]: Done   4 out of   9 | elapsed: 39.0min remaining: 48.8min\n",
      "/home/ubuntu/anaconda2/lib/python2.7/site-packages/sklearn/preprocessing/label.py:151: DeprecationWarning: The truth value of an empty array is ambiguous. Returning False, but in future this will result in an error. Use `array.size > 0` to check that an array is not empty.\n",
      "  if diff:\n",
      "/home/ubuntu/anaconda2/lib/python2.7/site-packages/sklearn/preprocessing/label.py:151: DeprecationWarning: The truth value of an empty array is ambiguous. Returning False, but in future this will result in an error. Use `array.size > 0` to check that an array is not empty.\n",
      "  if diff:\n"
     ]
    },
    {
     "name": "stdout",
     "output_type": "stream",
     "text": [
      "[CV]  n_estimators=480, learning_rate=0.051725155218588656, colsample_bytree=0.7696444353612459, max_depth=4, score=0.352919059338, total=39.1min\n"
     ]
    },
    {
     "name": "stderr",
     "output_type": "stream",
     "text": [
      "[Parallel(n_jobs=-1)]: Done   5 out of   9 | elapsed: 40.0min remaining: 32.0min\n",
      "/home/ubuntu/anaconda2/lib/python2.7/site-packages/sklearn/preprocessing/label.py:151: DeprecationWarning: The truth value of an empty array is ambiguous. Returning False, but in future this will result in an error. Use `array.size > 0` to check that an array is not empty.\n",
      "  if diff:\n",
      "/home/ubuntu/anaconda2/lib/python2.7/site-packages/sklearn/preprocessing/label.py:151: DeprecationWarning: The truth value of an empty array is ambiguous. Returning False, but in future this will result in an error. Use `array.size > 0` to check that an array is not empty.\n",
      "  if diff:\n"
     ]
    },
    {
     "name": "stdout",
     "output_type": "stream",
     "text": [
      "[CV]  n_estimators=480, learning_rate=0.051725155218588656, colsample_bytree=0.7696444353612459, max_depth=4, score=0.35332011893, total=40.9min\n"
     ]
    },
    {
     "name": "stderr",
     "output_type": "stream",
     "text": [
      "[Parallel(n_jobs=-1)]: Done   6 out of   9 | elapsed: 41.6min remaining: 20.8min\n",
      "/home/ubuntu/anaconda2/lib/python2.7/site-packages/sklearn/preprocessing/label.py:151: DeprecationWarning: The truth value of an empty array is ambiguous. Returning False, but in future this will result in an error. Use `array.size > 0` to check that an array is not empty.\n",
      "  if diff:\n",
      "/home/ubuntu/anaconda2/lib/python2.7/site-packages/sklearn/preprocessing/label.py:151: DeprecationWarning: The truth value of an empty array is ambiguous. Returning False, but in future this will result in an error. Use `array.size > 0` to check that an array is not empty.\n",
      "  if diff:\n"
     ]
    },
    {
     "name": "stdout",
     "output_type": "stream",
     "text": [
      "[CV]  n_estimators=480, learning_rate=0.07623573613468444, colsample_bytree=0.5209042551730589, max_depth=8, score=0.363856986601, total=51.5min\n"
     ]
    },
    {
     "name": "stderr",
     "output_type": "stream",
     "text": [
      "[Parallel(n_jobs=-1)]: Done   7 out of   9 | elapsed: 52.8min remaining: 15.1min\n",
      "/home/ubuntu/anaconda2/lib/python2.7/site-packages/sklearn/preprocessing/label.py:151: DeprecationWarning: The truth value of an empty array is ambiguous. Returning False, but in future this will result in an error. Use `array.size > 0` to check that an array is not empty.\n",
      "  if diff:\n",
      "/home/ubuntu/anaconda2/lib/python2.7/site-packages/sklearn/preprocessing/label.py:151: DeprecationWarning: The truth value of an empty array is ambiguous. Returning False, but in future this will result in an error. Use `array.size > 0` to check that an array is not empty.\n",
      "  if diff:\n",
      "/home/ubuntu/anaconda2/lib/python2.7/site-packages/sklearn/preprocessing/label.py:151: DeprecationWarning: The truth value of an empty array is ambiguous. Returning False, but in future this will result in an error. Use `array.size > 0` to check that an array is not empty.\n",
      "  if diff:\n"
     ]
    },
    {
     "name": "stdout",
     "output_type": "stream",
     "text": [
      "[CV]  n_estimators=480, learning_rate=0.07623573613468444, colsample_bytree=0.5209042551730589, max_depth=8, score=0.364375790301, total=53.1min\n"
     ]
    },
    {
     "name": "stderr",
     "output_type": "stream",
     "text": [
      "/home/ubuntu/anaconda2/lib/python2.7/site-packages/sklearn/preprocessing/label.py:151: DeprecationWarning: The truth value of an empty array is ambiguous. Returning False, but in future this will result in an error. Use `array.size > 0` to check that an array is not empty.\n",
      "  if diff:\n"
     ]
    },
    {
     "name": "stdout",
     "output_type": "stream",
     "text": [
      "[CV]  n_estimators=480, learning_rate=0.07623573613468444, colsample_bytree=0.5209042551730589, max_depth=8, score=0.364967369392, total=54.0min\n"
     ]
    },
    {
     "name": "stderr",
     "output_type": "stream",
     "text": [
      "[Parallel(n_jobs=-1)]: Done   9 out of   9 | elapsed: 54.7min remaining:    0.0s\n",
      "[Parallel(n_jobs=-1)]: Done   9 out of   9 | elapsed: 54.7min finished\n"
     ]
    }
   ],
   "source": [
    "rand_result_LE = rand_search.fit(X_train_LE, y_train_LE)\n"
   ]
  },
  {
   "cell_type": "code",
   "execution_count": 56,
   "metadata": {},
   "outputs": [
    {
     "name": "stdout",
     "output_type": "stream",
     "text": [
      "Best: 0.364400 using {'n_estimators': 480, 'learning_rate': 0.07623573613468444, 'colsample_bytree': 0.5209042551730589, 'max_depth': 8}\n"
     ]
    }
   ],
   "source": [
    "print(\"Best: %f using %s\" % (rand_result_LE.best_score_, rand_result_LE.best_params_))\n",
    "best_XGB_LE_score = rand_result_LE.best_score_\n",
    "best_XGB_LE_estimator = rand_result_LE.best_estimator_\n",
    "pickle.dump(best_XGB_LE_estimator, open(\"xgb_le_bayview.pickle.dat\", 'wb'))\n",
    "model_scores.append(('xg-non-onehot', best_XGB_LE_score))"
   ]
  },
  {
   "cell_type": "code",
   "execution_count": 57,
   "metadata": {},
   "outputs": [],
   "source": [
    "#using kfold CV with randomizedgridsearch in order to hypertune \n",
    "#parameters n_est, learningrate, max_depth and colsample_bytree\n",
    "#colsample_bytree performs stochastic gradient boosting by \n",
    "#splitting by choosing a subset of the features for each model/tree\n",
    "#tried using nthread in model as well as n_jobs in randsearch\n",
    "model = XGBClassifier(nthread = n_threads)\n",
    "kfold = StratifiedKFold(n_splits=3, shuffle=True, random_state=random_seed)\n",
    "#use over the max, e.g. 1.1 instead of 1.0 for colsample since last value isnt used for randomsearch\n",
    "#verbose messages in ipython terminal not notebook.\n",
    "param_grid = {'n_estimators': [120, 240, 368, 480], #stats.randint(100,500), #random int btwn 100 and 500\n",
    "              'learning_rate': stats.uniform(0.01, 0.08), #.01 + loc, range of .01+/-.08\n",
    "              'max_depth': [2, 4, 6, 8], #tree depths to check\n",
    "              'colsample_bytree': stats.uniform(0.3, 0.7) #btwn .1 and 1.0    \n",
    "}\n",
    "rand_search = RandomizedSearchCV(model, param_distributions = param_grid, scoring = 'f1_micro', n_iter = 3, n_jobs=-1, verbose = 10, cv=kfold)\n",
    "\n",
    "\n"
   ]
  },
  {
   "cell_type": "code",
   "execution_count": 58,
   "metadata": {},
   "outputs": [
    {
     "name": "stdout",
     "output_type": "stream",
     "text": [
      "Fitting 3 folds for each of 3 candidates, totalling 9 fits\n",
      "[CV] n_estimators=120, learning_rate=0.0706828372590964, colsample_bytree=0.5165934806654022, max_depth=6 \n",
      "[CV] n_estimators=120, learning_rate=0.0706828372590964, colsample_bytree=0.5165934806654022, max_depth=6 \n",
      "[CV] n_estimators=120, learning_rate=0.0706828372590964, colsample_bytree=0.5165934806654022, max_depth=6 \n",
      "[CV] n_estimators=240, learning_rate=0.012403693285616076, colsample_bytree=0.650909973880961, max_depth=8 \n",
      "[CV] n_estimators=240, learning_rate=0.012403693285616076, colsample_bytree=0.650909973880961, max_depth=8 \n",
      "[CV] n_estimators=240, learning_rate=0.012403693285616076, colsample_bytree=0.650909973880961, max_depth=8 \n",
      "[CV] n_estimators=480, learning_rate=0.05234226365684246, colsample_bytree=0.689237559655933, max_depth=4 \n",
      "[CV] n_estimators=480, learning_rate=0.05234226365684246, colsample_bytree=0.689237559655933, max_depth=4 \n",
      "[CV] n_estimators=480, learning_rate=0.05234226365684246, colsample_bytree=0.689237559655933, max_depth=4 \n"
     ]
    },
    {
     "name": "stderr",
     "output_type": "stream",
     "text": [
      "/home/ubuntu/anaconda2/lib/python2.7/site-packages/sklearn/preprocessing/label.py:151: DeprecationWarning: The truth value of an empty array is ambiguous. Returning False, but in future this will result in an error. Use `array.size > 0` to check that an array is not empty.\n",
      "  if diff:\n",
      "/home/ubuntu/anaconda2/lib/python2.7/site-packages/sklearn/preprocessing/label.py:151: DeprecationWarning: The truth value of an empty array is ambiguous. Returning False, but in future this will result in an error. Use `array.size > 0` to check that an array is not empty.\n",
      "  if diff:\n"
     ]
    },
    {
     "name": "stdout",
     "output_type": "stream",
     "text": [
      "[CV]  n_estimators=120, learning_rate=0.0706828372590964, colsample_bytree=0.5165934806654022, max_depth=6, score=0.349817162776, total=13.9min\n"
     ]
    },
    {
     "name": "stderr",
     "output_type": "stream",
     "text": [
      "/home/ubuntu/anaconda2/lib/python2.7/site-packages/sklearn/preprocessing/label.py:151: DeprecationWarning: The truth value of an empty array is ambiguous. Returning False, but in future this will result in an error. Use `array.size > 0` to check that an array is not empty.\n",
      "  if diff:\n",
      "/home/ubuntu/anaconda2/lib/python2.7/site-packages/sklearn/preprocessing/label.py:151: DeprecationWarning: The truth value of an empty array is ambiguous. Returning False, but in future this will result in an error. Use `array.size > 0` to check that an array is not empty.\n",
      "  if diff:\n"
     ]
    },
    {
     "name": "stdout",
     "output_type": "stream",
     "text": [
      "[CV]  n_estimators=120, learning_rate=0.0706828372590964, colsample_bytree=0.5165934806654022, max_depth=6, score=0.346858236239, total=15.0min\n"
     ]
    },
    {
     "name": "stderr",
     "output_type": "stream",
     "text": [
      "[Parallel(n_jobs=-1)]: Done   2 out of   9 | elapsed: 15.5min remaining: 54.3min\n",
      "/home/ubuntu/anaconda2/lib/python2.7/site-packages/sklearn/preprocessing/label.py:151: DeprecationWarning: The truth value of an empty array is ambiguous. Returning False, but in future this will result in an error. Use `array.size > 0` to check that an array is not empty.\n",
      "  if diff:\n",
      "/home/ubuntu/anaconda2/lib/python2.7/site-packages/sklearn/preprocessing/label.py:151: DeprecationWarning: The truth value of an empty array is ambiguous. Returning False, but in future this will result in an error. Use `array.size > 0` to check that an array is not empty.\n",
      "  if diff:\n"
     ]
    },
    {
     "name": "stdout",
     "output_type": "stream",
     "text": [
      "[CV]  n_estimators=120, learning_rate=0.0706828372590964, colsample_bytree=0.5165934806654022, max_depth=6, score=0.349193327864, total=16.0min\n"
     ]
    },
    {
     "name": "stderr",
     "output_type": "stream",
     "text": [
      "[Parallel(n_jobs=-1)]: Done   3 out of   9 | elapsed: 16.5min remaining: 32.9min\n",
      "/home/ubuntu/anaconda2/lib/python2.7/site-packages/sklearn/preprocessing/label.py:151: DeprecationWarning: The truth value of an empty array is ambiguous. Returning False, but in future this will result in an error. Use `array.size > 0` to check that an array is not empty.\n",
      "  if diff:\n",
      "/home/ubuntu/anaconda2/lib/python2.7/site-packages/sklearn/preprocessing/label.py:151: DeprecationWarning: The truth value of an empty array is ambiguous. Returning False, but in future this will result in an error. Use `array.size > 0` to check that an array is not empty.\n",
      "  if diff:\n",
      "/home/ubuntu/anaconda2/lib/python2.7/site-packages/sklearn/preprocessing/label.py:151: DeprecationWarning: The truth value of an empty array is ambiguous. Returning False, but in future this will result in an error. Use `array.size > 0` to check that an array is not empty.\n",
      "  if diff:\n"
     ]
    },
    {
     "name": "stdout",
     "output_type": "stream",
     "text": [
      "[CV]  n_estimators=480, learning_rate=0.05234226365684246, colsample_bytree=0.689237559655933, max_depth=4, score=0.348381805133, total=32.2min\n"
     ]
    },
    {
     "name": "stderr",
     "output_type": "stream",
     "text": [
      "[Parallel(n_jobs=-1)]: Done   4 out of   9 | elapsed: 33.4min remaining: 41.7min\n",
      "/home/ubuntu/anaconda2/lib/python2.7/site-packages/sklearn/preprocessing/label.py:151: DeprecationWarning: The truth value of an empty array is ambiguous. Returning False, but in future this will result in an error. Use `array.size > 0` to check that an array is not empty.\n",
      "  if diff:\n",
      "/home/ubuntu/anaconda2/lib/python2.7/site-packages/sklearn/preprocessing/label.py:151: DeprecationWarning: The truth value of an empty array is ambiguous. Returning False, but in future this will result in an error. Use `array.size > 0` to check that an array is not empty.\n",
      "  if diff:\n",
      "/home/ubuntu/anaconda2/lib/python2.7/site-packages/sklearn/preprocessing/label.py:151: DeprecationWarning: The truth value of an empty array is ambiguous. Returning False, but in future this will result in an error. Use `array.size > 0` to check that an array is not empty.\n",
      "  if diff:\n"
     ]
    },
    {
     "name": "stdout",
     "output_type": "stream",
     "text": [
      "[CV]  n_estimators=480, learning_rate=0.05234226365684246, colsample_bytree=0.689237559655933, max_depth=4, score=0.348099535138, total=33.3min\n"
     ]
    },
    {
     "name": "stderr",
     "output_type": "stream",
     "text": [
      "[Parallel(n_jobs=-1)]: Done   5 out of   9 | elapsed: 34.4min remaining: 27.5min\n",
      "/home/ubuntu/anaconda2/lib/python2.7/site-packages/sklearn/preprocessing/label.py:151: DeprecationWarning: The truth value of an empty array is ambiguous. Returning False, but in future this will result in an error. Use `array.size > 0` to check that an array is not empty.\n",
      "  if diff:\n"
     ]
    },
    {
     "name": "stdout",
     "output_type": "stream",
     "text": [
      "[CV]  n_estimators=240, learning_rate=0.012403693285616076, colsample_bytree=0.650909973880961, max_depth=8, score=0.348105374654, total=33.7min\n"
     ]
    },
    {
     "name": "stderr",
     "output_type": "stream",
     "text": [
      "[Parallel(n_jobs=-1)]: Done   6 out of   9 | elapsed: 34.6min remaining: 17.3min\n",
      "/home/ubuntu/anaconda2/lib/python2.7/site-packages/sklearn/preprocessing/label.py:151: DeprecationWarning: The truth value of an empty array is ambiguous. Returning False, but in future this will result in an error. Use `array.size > 0` to check that an array is not empty.\n",
      "  if diff:\n"
     ]
    },
    {
     "name": "stdout",
     "output_type": "stream",
     "text": [
      "[CV]  n_estimators=480, learning_rate=0.05234226365684246, colsample_bytree=0.689237559655933, max_depth=4, score=0.345389004681, total=33.6min\n"
     ]
    },
    {
     "name": "stderr",
     "output_type": "stream",
     "text": [
      "[Parallel(n_jobs=-1)]: Done   7 out of   9 | elapsed: 34.6min remaining:  9.9min\n",
      "/home/ubuntu/anaconda2/lib/python2.7/site-packages/sklearn/preprocessing/label.py:151: DeprecationWarning: The truth value of an empty array is ambiguous. Returning False, but in future this will result in an error. Use `array.size > 0` to check that an array is not empty.\n",
      "  if diff:\n",
      "/home/ubuntu/anaconda2/lib/python2.7/site-packages/sklearn/preprocessing/label.py:151: DeprecationWarning: The truth value of an empty array is ambiguous. Returning False, but in future this will result in an error. Use `array.size > 0` to check that an array is not empty.\n",
      "  if diff:\n"
     ]
    },
    {
     "name": "stdout",
     "output_type": "stream",
     "text": [
      "[CV]  n_estimators=240, learning_rate=0.012403693285616076, colsample_bytree=0.650909973880961, max_depth=8, score=0.350646021329, total=35.0min\n"
     ]
    },
    {
     "name": "stderr",
     "output_type": "stream",
     "text": [
      "/home/ubuntu/anaconda2/lib/python2.7/site-packages/sklearn/preprocessing/label.py:151: DeprecationWarning: The truth value of an empty array is ambiguous. Returning False, but in future this will result in an error. Use `array.size > 0` to check that an array is not empty.\n",
      "  if diff:\n",
      "/home/ubuntu/anaconda2/lib/python2.7/site-packages/sklearn/preprocessing/label.py:151: DeprecationWarning: The truth value of an empty array is ambiguous. Returning False, but in future this will result in an error. Use `array.size > 0` to check that an array is not empty.\n",
      "  if diff:\n"
     ]
    },
    {
     "name": "stdout",
     "output_type": "stream",
     "text": [
      "[CV]  n_estimators=240, learning_rate=0.012403693285616076, colsample_bytree=0.650909973880961, max_depth=8, score=0.351440483921, total=35.4min\n"
     ]
    },
    {
     "name": "stderr",
     "output_type": "stream",
     "text": [
      "[Parallel(n_jobs=-1)]: Done   9 out of   9 | elapsed: 35.6min remaining:    0.0s\n",
      "[Parallel(n_jobs=-1)]: Done   9 out of   9 | elapsed: 35.6min finished\n"
     ]
    }
   ],
   "source": [
    "rand_result_XGB_only = rand_search.fit(X_train, y_train)"
   ]
  },
  {
   "cell_type": "code",
   "execution_count": 59,
   "metadata": {},
   "outputs": [
    {
     "name": "stdout",
     "output_type": "stream",
     "text": [
      "Best: 0.350064 using {'n_estimators': 240, 'learning_rate': 0.012403693285616076, 'colsample_bytree': 0.650909973880961, 'max_depth': 8}\n"
     ]
    }
   ],
   "source": [
    "print(\"Best: %f using %s\" % (rand_result_XGB_only.best_score_, rand_result_XGB_only.best_params_))\n",
    "best_XGB_only_score = rand_result_XGB_only.best_score_\n",
    "best_XGB_only_estimator = rand_result_XGB_only.best_estimator_\n",
    "pickle.dump(best_XGB_only_estimator, open(\"xgb_only_bayview.pickle.dat\", 'wb'))\n",
    "model_scores.append(('xgbALONE', best_XGB_only_score))"
   ]
  },
  {
   "cell_type": "code",
   "execution_count": 60,
   "metadata": {},
   "outputs": [],
   "source": [
    "# sole_xgb = rand_result.best_estimator_\n",
    "# type(sole_xgb)"
   ]
  },
  {
   "cell_type": "code",
   "execution_count": 61,
   "metadata": {},
   "outputs": [],
   "source": [
    "# plot_importance(sole_xgb)\n",
    "# pyplot.show()\n",
    "#plot is messed/awkward looking because there is a huge amount of features."
   ]
  },
  {
   "cell_type": "code",
   "execution_count": 62,
   "metadata": {},
   "outputs": [],
   "source": [
    "#trying with tSVD for speedup\n",
    "from sklearn.pipeline import Pipeline\n",
    "from sklearn.decomposition import TruncatedSVD\n",
    "#____________________________________________________________________\n",
    "pipe = Pipeline(steps = [\n",
    "        ('svd', TruncatedSVD(n_iter=15, random_state=random_seed)),\n",
    "        ('xgb', XGBClassifier(nthread = n_threads))\n",
    "        ])\n",
    "\n",
    "#hyperparameter options\n",
    "\n",
    "kfold = StratifiedKFold(n_splits=3, shuffle=True, random_state=random_seed)\n",
    "#use over the max, e.g. 1.1 instead of 1.0 for colsample since last value isnt used for randomsearch\n",
    "#verbose messages in ipython terminal not notebook.\n",
    "param_grid = {'xgb__n_estimators': [120, 240, 368, 480], #random int btwn 100 and 500\n",
    "              'xgb__learning_rate': stats.uniform(0.01, 0.08), #.01 + loc, range of .01+/-.08\n",
    "              'xgb__max_depth': [2, 4, 6, 8], #tree depths to check\n",
    "              'xgb__colsample_bytree': stats.uniform(0.3, 0.7), #btwn .1 and 1.0   \n",
    "              'svd__n_components': stats.randint(5,1000)\n",
    "}\n",
    "\n",
    "rand_search = RandomizedSearchCV(pipe, param_distributions = param_grid, scoring = 'f1_micro', n_iter = 3, n_jobs=-1, verbose = 10, cv=kfold)\n",
    "\n"
   ]
  },
  {
   "cell_type": "code",
   "execution_count": 63,
   "metadata": {},
   "outputs": [
    {
     "name": "stdout",
     "output_type": "stream",
     "text": [
      "Fitting 3 folds for each of 3 candidates, totalling 9 fits\n",
      "[CV] xgb__colsample_bytree=0.5636089385307737, xgb__learning_rate=0.07786643539410537, xgb__n_estimators=120, xgb__max_depth=4, svd__n_components=733 \n",
      "[CV] xgb__colsample_bytree=0.5636089385307737, xgb__learning_rate=0.07786643539410537, xgb__n_estimators=120, xgb__max_depth=4, svd__n_components=733 \n",
      "[CV] xgb__colsample_bytree=0.5636089385307737, xgb__learning_rate=0.07786643539410537, xgb__n_estimators=120, xgb__max_depth=4, svd__n_components=733 \n",
      "[CV] xgb__colsample_bytree=0.8065210493426249, xgb__learning_rate=0.07369027338128102, xgb__n_estimators=120, xgb__max_depth=2, svd__n_components=27 \n",
      "[CV] xgb__colsample_bytree=0.8065210493426249, xgb__learning_rate=0.07369027338128102, xgb__n_estimators=120, xgb__max_depth=2, svd__n_components=27 \n",
      "[CV] xgb__colsample_bytree=0.8065210493426249, xgb__learning_rate=0.07369027338128102, xgb__n_estimators=120, xgb__max_depth=2, svd__n_components=27 \n",
      "[CV] xgb__colsample_bytree=0.6785367250029507, xgb__learning_rate=0.05237881116110995, xgb__n_estimators=120, xgb__max_depth=4, svd__n_components=528 \n",
      "[CV] xgb__colsample_bytree=0.6785367250029507, xgb__learning_rate=0.05237881116110995, xgb__n_estimators=120, xgb__max_depth=4, svd__n_components=528 \n",
      "[CV] xgb__colsample_bytree=0.6785367250029507, xgb__learning_rate=0.05237881116110995, xgb__n_estimators=120, xgb__max_depth=4, svd__n_components=528 \n"
     ]
    },
    {
     "name": "stderr",
     "output_type": "stream",
     "text": [
      "/home/ubuntu/anaconda2/lib/python2.7/site-packages/sklearn/preprocessing/label.py:151: DeprecationWarning: The truth value of an empty array is ambiguous. Returning False, but in future this will result in an error. Use `array.size > 0` to check that an array is not empty.\n",
      "  if diff:\n",
      "/home/ubuntu/anaconda2/lib/python2.7/site-packages/sklearn/preprocessing/label.py:151: DeprecationWarning: The truth value of an empty array is ambiguous. Returning False, but in future this will result in an error. Use `array.size > 0` to check that an array is not empty.\n",
      "  if diff:\n",
      "/home/ubuntu/anaconda2/lib/python2.7/site-packages/sklearn/preprocessing/label.py:151: DeprecationWarning: The truth value of an empty array is ambiguous. Returning False, but in future this will result in an error. Use `array.size > 0` to check that an array is not empty.\n",
      "  if diff:\n",
      "/home/ubuntu/anaconda2/lib/python2.7/site-packages/sklearn/preprocessing/label.py:151: DeprecationWarning: The truth value of an empty array is ambiguous. Returning False, but in future this will result in an error. Use `array.size > 0` to check that an array is not empty.\n",
      "  if diff:\n"
     ]
    },
    {
     "name": "stdout",
     "output_type": "stream",
     "text": [
      "[CV]  xgb__colsample_bytree=0.8065210493426249, xgb__learning_rate=0.07369027338128102, xgb__n_estimators=120, xgb__max_depth=2, svd__n_components=27, score=0.322651763741, total=17.3min\n"
     ]
    },
    {
     "name": "stderr",
     "output_type": "stream",
     "text": [
      "/home/ubuntu/anaconda2/lib/python2.7/site-packages/sklearn/preprocessing/label.py:151: DeprecationWarning: The truth value of an empty array is ambiguous. Returning False, but in future this will result in an error. Use `array.size > 0` to check that an array is not empty.\n",
      "  if diff:\n"
     ]
    },
    {
     "name": "stdout",
     "output_type": "stream",
     "text": [
      "[CV]  xgb__colsample_bytree=0.8065210493426249, xgb__learning_rate=0.07369027338128102, xgb__n_estimators=120, xgb__max_depth=2, svd__n_components=27, score=0.325381907659, total=18.1min\n"
     ]
    },
    {
     "name": "stderr",
     "output_type": "stream",
     "text": [
      "[Parallel(n_jobs=-1)]: Done   2 out of   9 | elapsed: 26.0min remaining: 91.0min\n",
      "/home/ubuntu/anaconda2/lib/python2.7/site-packages/sklearn/preprocessing/label.py:151: DeprecationWarning: The truth value of an empty array is ambiguous. Returning False, but in future this will result in an error. Use `array.size > 0` to check that an array is not empty.\n",
      "  if diff:\n"
     ]
    },
    {
     "name": "stdout",
     "output_type": "stream",
     "text": [
      "[CV]  xgb__colsample_bytree=0.8065210493426249, xgb__learning_rate=0.07369027338128102, xgb__n_estimators=120, xgb__max_depth=2, svd__n_components=27, score=0.32516144463, total=17.8min\n"
     ]
    },
    {
     "name": "stderr",
     "output_type": "stream",
     "text": [
      "[Parallel(n_jobs=-1)]: Done   3 out of   9 | elapsed: 26.1min remaining: 52.2min\n",
      "/home/ubuntu/anaconda2/lib/python2.7/site-packages/sklearn/preprocessing/label.py:151: DeprecationWarning: The truth value of an empty array is ambiguous. Returning False, but in future this will result in an error. Use `array.size > 0` to check that an array is not empty.\n",
      "  if diff:\n",
      "/home/ubuntu/anaconda2/lib/python2.7/site-packages/sklearn/preprocessing/label.py:151: DeprecationWarning: The truth value of an empty array is ambiguous. Returning False, but in future this will result in an error. Use `array.size > 0` to check that an array is not empty.\n",
      "  if diff:\n",
      "/home/ubuntu/anaconda2/lib/python2.7/site-packages/sklearn/preprocessing/label.py:151: DeprecationWarning: The truth value of an empty array is ambiguous. Returning False, but in future this will result in an error. Use `array.size > 0` to check that an array is not empty.\n",
      "  if diff:\n",
      "/home/ubuntu/anaconda2/lib/python2.7/site-packages/sklearn/preprocessing/label.py:151: DeprecationWarning: The truth value of an empty array is ambiguous. Returning False, but in future this will result in an error. Use `array.size > 0` to check that an array is not empty.\n",
      "  if diff:\n"
     ]
    },
    {
     "name": "stdout",
     "output_type": "stream",
     "text": [
      "[CV]  xgb__colsample_bytree=0.6785367250029507, xgb__learning_rate=0.05237881116110995, xgb__n_estimators=120, xgb__max_depth=4, svd__n_components=528, score=0.344783975937, total=101.4min\n"
     ]
    },
    {
     "name": "stderr",
     "output_type": "stream",
     "text": [
      "[Parallel(n_jobs=-1)]: Done   4 out of   9 | elapsed: 106.7min remaining: 133.4min\n",
      "/home/ubuntu/anaconda2/lib/python2.7/site-packages/sklearn/preprocessing/label.py:151: DeprecationWarning: The truth value of an empty array is ambiguous. Returning False, but in future this will result in an error. Use `array.size > 0` to check that an array is not empty.\n",
      "  if diff:\n",
      "/home/ubuntu/anaconda2/lib/python2.7/site-packages/sklearn/preprocessing/label.py:151: DeprecationWarning: The truth value of an empty array is ambiguous. Returning False, but in future this will result in an error. Use `array.size > 0` to check that an array is not empty.\n",
      "  if diff:\n"
     ]
    },
    {
     "name": "stdout",
     "output_type": "stream",
     "text": [
      "[CV]  xgb__colsample_bytree=0.6785367250029507, xgb__learning_rate=0.05237881116110995, xgb__n_estimators=120, xgb__max_depth=4, svd__n_components=528, score=0.346245856259, total=104.6min\n"
     ]
    },
    {
     "name": "stderr",
     "output_type": "stream",
     "text": [
      "[Parallel(n_jobs=-1)]: Done   5 out of   9 | elapsed: 107.9min remaining: 86.4min\n",
      "/home/ubuntu/anaconda2/lib/python2.7/site-packages/sklearn/preprocessing/label.py:151: DeprecationWarning: The truth value of an empty array is ambiguous. Returning False, but in future this will result in an error. Use `array.size > 0` to check that an array is not empty.\n",
      "  if diff:\n",
      "/home/ubuntu/anaconda2/lib/python2.7/site-packages/sklearn/preprocessing/label.py:151: DeprecationWarning: The truth value of an empty array is ambiguous. Returning False, but in future this will result in an error. Use `array.size > 0` to check that an array is not empty.\n",
      "  if diff:\n"
     ]
    },
    {
     "name": "stdout",
     "output_type": "stream",
     "text": [
      "[CV]  xgb__colsample_bytree=0.6785367250029507, xgb__learning_rate=0.05237881116110995, xgb__n_estimators=120, xgb__max_depth=4, svd__n_components=528, score=0.344227286705, total=105.6min\n"
     ]
    },
    {
     "name": "stderr",
     "output_type": "stream",
     "text": [
      "/home/ubuntu/anaconda2/lib/python2.7/site-packages/sklearn/preprocessing/label.py:151: DeprecationWarning: The truth value of an empty array is ambiguous. Returning False, but in future this will result in an error. Use `array.size > 0` to check that an array is not empty.\n",
      "  if diff:\n",
      "[Parallel(n_jobs=-1)]: Done   6 out of   9 | elapsed: 108.2min remaining: 54.1min\n",
      "/home/ubuntu/anaconda2/lib/python2.7/site-packages/sklearn/preprocessing/label.py:151: DeprecationWarning: The truth value of an empty array is ambiguous. Returning False, but in future this will result in an error. Use `array.size > 0` to check that an array is not empty.\n",
      "  if diff:\n"
     ]
    },
    {
     "name": "stdout",
     "output_type": "stream",
     "text": [
      "[CV]  xgb__colsample_bytree=0.5636089385307737, xgb__learning_rate=0.07786643539410537, xgb__n_estimators=120, xgb__max_depth=4, svd__n_components=733, score=0.34499607066, total=107.8min\n"
     ]
    },
    {
     "name": "stderr",
     "output_type": "stream",
     "text": [
      "[Parallel(n_jobs=-1)]: Done   7 out of   9 | elapsed: 109.2min remaining: 31.2min\n",
      "/home/ubuntu/anaconda2/lib/python2.7/site-packages/sklearn/preprocessing/label.py:151: DeprecationWarning: The truth value of an empty array is ambiguous. Returning False, but in future this will result in an error. Use `array.size > 0` to check that an array is not empty.\n",
      "  if diff:\n"
     ]
    },
    {
     "name": "stdout",
     "output_type": "stream",
     "text": [
      "[CV]  xgb__colsample_bytree=0.5636089385307737, xgb__learning_rate=0.07786643539410537, xgb__n_estimators=120, xgb__max_depth=4, svd__n_components=733, score=0.350432316052, total=108.2min\n"
     ]
    },
    {
     "name": "stderr",
     "output_type": "stream",
     "text": [
      "/home/ubuntu/anaconda2/lib/python2.7/site-packages/sklearn/preprocessing/label.py:151: DeprecationWarning: The truth value of an empty array is ambiguous. Returning False, but in future this will result in an error. Use `array.size > 0` to check that an array is not empty.\n",
      "  if diff:\n"
     ]
    },
    {
     "name": "stdout",
     "output_type": "stream",
     "text": [
      "[CV]  xgb__colsample_bytree=0.5636089385307737, xgb__learning_rate=0.07786643539410537, xgb__n_estimators=120, xgb__max_depth=4, svd__n_components=733, score=0.346869018321, total=108.2min\n"
     ]
    },
    {
     "name": "stderr",
     "output_type": "stream",
     "text": [
      "[Parallel(n_jobs=-1)]: Done   9 out of   9 | elapsed: 109.6min remaining:    0.0s\n",
      "[Parallel(n_jobs=-1)]: Done   9 out of   9 | elapsed: 109.6min finished\n"
     ]
    }
   ],
   "source": [
    "rand_result_svd = rand_search.fit(X_train, y_train)"
   ]
  },
  {
   "cell_type": "code",
   "execution_count": 64,
   "metadata": {},
   "outputs": [
    {
     "name": "stdout",
     "output_type": "stream",
     "text": [
      "Best: 0.347432 using {'xgb__colsample_bytree': 0.5636089385307737, 'xgb__learning_rate': 0.07786643539410537, 'xgb__n_estimators': 120, 'xgb__max_depth': 4, 'svd__n_components': 733}\n"
     ]
    }
   ],
   "source": [
    "print(\"Best: %f using %s\" % (rand_result_svd.best_score_, rand_result_svd.best_params_))\n",
    "best_XGB_svd_score = rand_result_svd.best_score_\n",
    "best_XGB_svd_estimator = rand_result_svd.best_estimator_\n",
    "pickle.dump(best_XGB_svd_estimator, open(\"xgb_SVD_bayview.pickle.dat\", 'wb'))\n",
    "model_scores.append(('xgbSVD', best_XGB_svd_score))"
   ]
  },
  {
   "cell_type": "code",
   "execution_count": 65,
   "metadata": {},
   "outputs": [
    {
     "name": "stdout",
     "output_type": "stream",
     "text": [
      "XGB Label Encoded(ordinal) score: 0.3644001184726146\n",
      "XGB One hot encoded score: 0.3500637929463228\n",
      "SVD best score: 0.3474323339105076\n"
     ]
    }
   ],
   "source": [
    "#compare best scores:\n",
    "print \"XGB Label Encoded(ordinal) score:\", best_XGB_LE_score\n",
    "print \"XGB One hot encoded score:\", best_XGB_only_score\n",
    "print \"SVD best score:\", best_XGB_svd_score\n",
    "#export model scores to a data frame\n",
    "mscore_df = pd.DataFrame(model_scores, columns = ['model', 'f1_score'])"
   ]
  },
  {
   "cell_type": "code",
   "execution_count": 76,
   "metadata": {},
   "outputs": [
    {
     "data": {
      "image/png": "[encoded data removed]",
      "text/plain": [
       "<matplotlib.figure.Figure at 0x7f1d6c058dd0>"
      ]
     },
     "metadata": {},
     "output_type": "display_data"
    }
   ],
   "source": [
    "sns.set_style(\"whitegrid\")\n",
    "msplt = sns.barplot(x = \"model\", y = \"f1_score\", data=mscore_df)\n",
    "_ = plt.xlabel('Model')\n",
    "_ = plt.ylabel('f1 score')\n",
    "_ = plt.savefig('model_selection_bar')\n",
    "_ = plt.show()"
   ]
  },
  {
   "cell_type": "code",
   "execution_count": 71,
   "metadata": {},
   "outputs": [
    {
     "name": "stderr",
     "output_type": "stream",
     "text": [
      "/home/ubuntu/anaconda2/lib/python2.7/site-packages/sklearn/preprocessing/label.py:151: DeprecationWarning: The truth value of an empty array is ambiguous. Returning False, but in future this will result in an error. Use `array.size > 0` to check that an array is not empty.\n",
      "  if diff:\n"
     ]
    }
   ],
   "source": [
    "#test on test set here.\n",
    "#XGBoost non one-hot-encoded was the best model but only very slightly, XGB one-hot-encoded alone without\n",
    "#feature reduction performed nearly as well and was much more efficient in time computations, thus I will use\n",
    "#XGB w/o feature selection and with one-hot-encoding for my final modelling on test set as well as in other\n",
    "#districts and whole city\n",
    "#train the best estimator on the train set again then test on test set for results\n",
    "best_XGB_only_estimator.fit(X_train, y_train)\n",
    "preds = best_XGB_only_estimator.predict(X_test)\n",
    "f1score = f1_score(y_test, preds, average = 'micro')"
   ]
  },
  {
   "cell_type": "code",
   "execution_count": 72,
   "metadata": {},
   "outputs": [],
   "source": [
    "f1_score = []\n",
    "f1_score.append(('Bayview', f1score))\n",
    "export_df = pd.DataFrame(f1_score)\n",
    "export_df.to_csv(\"bayviewresults.dat\", index = False, header = False)"
   ]
  },
  {
   "cell_type": "code",
   "execution_count": null,
   "metadata": {},
   "outputs": [],
   "source": []
  }
 ],
 "metadata": {
  "kernelspec": {
   "display_name": "Python 2",
   "language": "python",
   "name": "python2"
  },
  "language_info": {
   "codemirror_mode": {
    "name": "ipython",
    "version": 2
   },
   "file_extension": ".py",
   "mimetype": "text/x-python",
   "name": "python",
   "nbconvert_exporter": "python",
   "pygments_lexer": "ipython2",
   "version": "2.7.14"
  }
 },
 "nbformat": 4,
 "nbformat_minor": 2
}
